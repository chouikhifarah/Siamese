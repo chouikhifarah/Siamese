{
 "cells": [
  {
   "cell_type": "code",
   "execution_count": 1,
   "id": "8d38b5bf",
   "metadata": {},
   "outputs": [],
   "source": [
    "import tensorflow as tf\n",
    "import tensorflow\n",
    "import sklearn\n",
    "import math\n",
    "import keras\n",
    "import numpy\n",
    "import pandas\n",
    "import os\n",
    "import time\n",
    "import csv\n",
    "import pandas as pd\n",
    "import numpy as np\n",
    "import matplotlib.pyplot as plt\n",
    "from IPython import display\n",
    "import matplotlib.image as mpimg\n",
    "from keras.utils import np_utils\n",
    "import matplotlib.pyplot\n",
    "from keras.models import Sequential,Model\n",
    "from keras.losses import mse,sparse_categorical_crossentropy\n",
    "from keras.layers import Dense, Conv2D, Conv1D, Conv3D, Flatten,Activation,MaxPool1D,MaxPooling1D,Dropout,LSTM\n",
    "from sklearn.model_selection import train_test_split\n",
    "from sklearn.metrics import mean_squared_error\n",
    "from sklearn.preprocessing import StandardScaler\n",
    "from keras.layers import Lambda, Input, Dense\n",
    "from keras.callbacks import EarlyStopping,ModelCheckpoint,TensorBoard"
   ]
  },
  {
   "cell_type": "markdown",
   "id": "f0488809",
   "metadata": {},
   "source": [
    "Image dimenssions"
   ]
  },
  {
   "cell_type": "code",
   "execution_count": 2,
   "id": "ff4164e8",
   "metadata": {},
   "outputs": [],
   "source": [
    "img_size1 = 4\n",
    "img_size2 = 1\n",
    "num_channels = 1\n",
    "latent_space_dim =24"
   ]
  },
  {
   "cell_type": "code",
   "execution_count": 3,
   "id": "9060f20f",
   "metadata": {},
   "outputs": [
    {
     "name": "stdout",
     "output_type": "stream",
     "text": [
      "Model: \"encoder_model\"\n",
      "__________________________________________________________________________________________________\n",
      "Layer (type)                    Output Shape         Param #     Connected to                     \n",
      "==================================================================================================\n",
      "encoder_input (InputLayer)      [(None, 4, 1, 1)]    0                                            \n",
      "__________________________________________________________________________________________________\n",
      "encoder_conv_1 (Conv2D)         (None, 4, 1, 32)     320         encoder_input[0][0]              \n",
      "__________________________________________________________________________________________________\n",
      "encoder_norm_2 (BatchNormalizat (None, 4, 1, 32)     128         encoder_conv_1[0][0]             \n",
      "__________________________________________________________________________________________________\n",
      "encoder_activ_layer_2 (LeakyReL (None, 4, 1, 32)     0           encoder_norm_2[0][0]             \n",
      "__________________________________________________________________________________________________\n",
      "encoder_conv_2 (Conv2D)         (None, 2, 1, 64)     18496       encoder_activ_layer_2[0][0]      \n",
      "__________________________________________________________________________________________________\n",
      "encoder_norm_3 (BatchNormalizat (None, 2, 1, 64)     256         encoder_conv_2[0][0]             \n",
      "__________________________________________________________________________________________________\n",
      "encoder_activ_layer_3 (LeakyReL (None, 2, 1, 64)     0           encoder_norm_3[0][0]             \n",
      "__________________________________________________________________________________________________\n",
      "encoder_conv_3 (Conv2D)         (None, 1, 1, 64)     36928       encoder_activ_layer_3[0][0]      \n",
      "__________________________________________________________________________________________________\n",
      "encoder_norm_4 (BatchNormalizat (None, 1, 1, 64)     256         encoder_conv_3[0][0]             \n",
      "__________________________________________________________________________________________________\n",
      "encoder_activ_layer_4 (LeakyReL (None, 1, 1, 64)     0           encoder_norm_4[0][0]             \n",
      "__________________________________________________________________________________________________\n",
      "encoder_conv_4 (Conv2D)         (None, 1, 1, 64)     36928       encoder_activ_layer_4[0][0]      \n",
      "__________________________________________________________________________________________________\n",
      "encoder_norm_5 (BatchNormalizat (None, 1, 1, 64)     256         encoder_conv_4[0][0]             \n",
      "__________________________________________________________________________________________________\n",
      "encoder_activ_layer_5 (LeakyReL (None, 1, 1, 64)     0           encoder_norm_5[0][0]             \n",
      "__________________________________________________________________________________________________\n",
      "flatten (Flatten)               (None, 64)           0           encoder_activ_layer_5[0][0]      \n",
      "__________________________________________________________________________________________________\n",
      "encoder_mu (Dense)              (None, 24)           1560        flatten[0][0]                    \n",
      "__________________________________________________________________________________________________\n",
      "encoder_log_variance (Dense)    (None, 24)           1560        flatten[0][0]                    \n",
      "__________________________________________________________________________________________________\n",
      "encoder_output (Lambda)         (None, 24)           0           encoder_mu[0][0]                 \n",
      "                                                                 encoder_log_variance[0][0]       \n",
      "==================================================================================================\n",
      "Total params: 96,688\n",
      "Trainable params: 96,240\n",
      "Non-trainable params: 448\n",
      "__________________________________________________________________________________________________\n"
     ]
    }
   ],
   "source": [
    "#################################### Encoder #######################################\n",
    "x = tensorflow.keras.layers.Input(shape=(img_size1, img_size2, num_channels), name=\"encoder_input\")\n",
    "encoder_conv_layer1 = tensorflow.keras.layers.Conv2D(filters=32, kernel_size=(3,3), padding=\"same\", strides=1, name=\"encoder_conv_1\")(x)\n",
    "encoder_norm_layer1 = tensorflow.keras.layers.BatchNormalization(name=\"encoder_norm_2\")(encoder_conv_layer1)\n",
    "encoder_activ_layer1 = tensorflow.keras.layers.LeakyReLU(name=\"encoder_activ_layer_2\")(encoder_norm_layer1)\n",
    "\n",
    "encoder_conv_layer2 = tensorflow.keras.layers.Conv2D(filters=64, kernel_size=(3,3), padding=\"same\", strides=2, name=\"encoder_conv_2\")(encoder_activ_layer1)\n",
    "encoder_norm_layer2 = tensorflow.keras.layers.BatchNormalization(name=\"encoder_norm_3\")(encoder_conv_layer2)\n",
    "encoder_activ_layer2 = tensorflow.keras.layers.LeakyReLU(name=\"encoder_activ_layer_3\")(encoder_norm_layer2)\n",
    "\n",
    "encoder_conv_layer3 = tensorflow.keras.layers.Conv2D(filters=64, kernel_size=(3,3), padding=\"same\", strides=2, name=\"encoder_conv_3\")(encoder_activ_layer2)\n",
    "encoder_norm_layer3 = tensorflow.keras.layers.BatchNormalization(name=\"encoder_norm_4\")(encoder_conv_layer3)\n",
    "encoder_activ_layer3 = tensorflow.keras.layers.LeakyReLU(name=\"encoder_activ_layer_4\")(encoder_norm_layer3)\n",
    "\n",
    "encoder_conv_layer4 = tensorflow.keras.layers.Conv2D(filters=64, kernel_size=(3,3), padding=\"same\", strides=1, name=\"encoder_conv_4\")(encoder_activ_layer3)\n",
    "encoder_norm_layer4 = tensorflow.keras.layers.BatchNormalization(name=\"encoder_norm_5\")(encoder_conv_layer4)\n",
    "encoder_activ_layer4 = tensorflow.keras.layers.LeakyReLU(name=\"encoder_activ_layer_5\")(encoder_norm_layer4)\n",
    "\n",
    "shape_before_flatten = tensorflow.keras.backend.int_shape(encoder_activ_layer4)[1:]\n",
    "encoder_flatten = tensorflow.keras.layers.Flatten()(encoder_activ_layer4)\n",
    "\n",
    "encoder_mu = tensorflow.keras.layers.Dense(units=latent_space_dim, name=\"encoder_mu\")(encoder_flatten)\n",
    "encoder_log_variance = tensorflow.keras.layers.Dense(units=latent_space_dim, name=\"encoder_log_variance\")(encoder_flatten)\n",
    "\n",
    "encoder_mu_log_variance_model = tensorflow.keras.models.Model(x, (encoder_mu, encoder_log_variance), name=\"encoder_mu_log_variance_model\")\n",
    "\n",
    "def sampling(mu_log_variance):\n",
    "    mu, log_variance = mu_log_variance\n",
    "    epsilon = tensorflow.keras.backend.random_normal(shape=tensorflow.keras.backend.shape(mu), mean=0.0, stddev=1.0)\n",
    "    random_sample = mu + tensorflow.keras.backend.exp(log_variance/2) * epsilon\n",
    "    return random_sample\n",
    "encoder_output = tensorflow.keras.layers.Lambda(sampling, name=\"encoder_output\")([encoder_mu, encoder_log_variance])\n",
    "encoder = tensorflow.keras.models.Model(x, encoder_output, name=\"encoder_model\")\n",
    "encoder.summary()\n",
    "#########################################################################################"
   ]
  },
  {
   "cell_type": "code",
   "execution_count": 4,
   "id": "bdbc552d",
   "metadata": {},
   "outputs": [
    {
     "name": "stdout",
     "output_type": "stream",
     "text": [
      "Model: \"decoder_model\"\n",
      "_________________________________________________________________\n",
      "Layer (type)                 Output Shape              Param #   \n",
      "=================================================================\n",
      "decoder_input (InputLayer)   [(None, 24)]              0         \n",
      "_________________________________________________________________\n",
      "decoder_dense_1 (Dense)      (None, 64)                1600      \n",
      "_________________________________________________________________\n",
      "reshape (Reshape)            (None, 1, 1, 64)          0         \n",
      "_________________________________________________________________\n",
      "decoder_conv_tran_1 (Conv2DT (None, 2, 1, 64)          36928     \n",
      "_________________________________________________________________\n",
      "decoder_norm_1 (BatchNormali (None, 2, 1, 64)          256       \n",
      "_________________________________________________________________\n",
      "decoder_leakyrelu_1 (LeakyRe (None, 2, 1, 64)          0         \n",
      "_________________________________________________________________\n",
      "decoder_conv_tran_2 (Conv2DT (None, 4, 1, 64)          36928     \n",
      "_________________________________________________________________\n",
      "decoder_norm_2 (BatchNormali (None, 4, 1, 64)          256       \n",
      "_________________________________________________________________\n",
      "decoder_leakyrelu_2 (LeakyRe (None, 4, 1, 64)          0         \n",
      "_________________________________________________________________\n",
      "decoder_conv_tran_3 (Conv2DT (None, 4, 1, 32)          18464     \n",
      "_________________________________________________________________\n",
      "decoder_norm_3 (BatchNormali (None, 4, 1, 32)          128       \n",
      "_________________________________________________________________\n",
      "decoder_leakyrelu_3 (LeakyRe (None, 4, 1, 32)          0         \n",
      "_________________________________________________________________\n",
      "decoder_conv_tran_4 (Conv2DT (None, 4, 1, 1)           289       \n",
      "_________________________________________________________________\n",
      "decoder_output (LeakyReLU)   (None, 4, 1, 1)           0         \n",
      "=================================================================\n",
      "Total params: 94,849\n",
      "Trainable params: 94,529\n",
      "Non-trainable params: 320\n",
      "_________________________________________________________________\n"
     ]
    }
   ],
   "source": [
    "#################################### Decoder ####################################\n",
    "decoder_input = tensorflow.keras.layers.Input(shape=(latent_space_dim), name=\"decoder_input\")\n",
    "decoder_dense_layer1 = tensorflow.keras.layers.Dense(units=numpy.prod(shape_before_flatten), name=\"decoder_dense_1\")(decoder_input)\n",
    "decoder_reshape = tensorflow.keras.layers.Reshape(target_shape=shape_before_flatten)(decoder_dense_layer1)\n",
    "\n",
    "decoder_conv_tran_layer1 = tensorflow.keras.layers.Conv2DTranspose(filters=64, kernel_size=(3, 3), padding=\"same\", strides=(2,1), name=\"decoder_conv_tran_1\")(decoder_reshape)\n",
    "decoder_norm_layer1 = tensorflow.keras.layers.BatchNormalization(name=\"decoder_norm_1\")(decoder_conv_tran_layer1)\n",
    "decoder_activ_layer1 = tensorflow.keras.layers.LeakyReLU(name=\"decoder_leakyrelu_1\")(decoder_norm_layer1)\n",
    "\n",
    "decoder_conv_tran_layer2 = tensorflow.keras.layers.Conv2DTranspose(filters=64, kernel_size=(3, 3), padding=\"same\", strides=(2,1), name=\"decoder_conv_tran_2\")(decoder_activ_layer1)\n",
    "decoder_norm_layer2 = tensorflow.keras.layers.BatchNormalization(name=\"decoder_norm_2\")(decoder_conv_tran_layer2)\n",
    "decoder_activ_layer2 = tensorflow.keras.layers.LeakyReLU(name=\"decoder_leakyrelu_2\")(decoder_norm_layer2)\n",
    "\n",
    "decoder_conv_tran_layer3 = tensorflow.keras.layers.Conv2DTranspose(filters=32, kernel_size=(3, 3), padding=\"same\", strides=1, name=\"decoder_conv_tran_3\")(decoder_activ_layer2)\n",
    "decoder_norm_layer3 = tensorflow.keras.layers.BatchNormalization(name=\"decoder_norm_3\")(decoder_conv_tran_layer3)\n",
    "decoder_activ_layer3 = tensorflow.keras.layers.LeakyReLU(name=\"decoder_leakyrelu_3\")(decoder_norm_layer3)\n",
    "\n",
    "decoder_conv_tran_layer4 = tensorflow.keras.layers.Conv2DTranspose(filters=1, kernel_size=(3, 3), padding=\"same\", strides=1, name=\"decoder_conv_tran_4\")(decoder_activ_layer3)\n",
    "decoder_output = tensorflow.keras.layers.LeakyReLU(name=\"decoder_output\")(decoder_conv_tran_layer4 )\n",
    "decoder = tensorflow.keras.models.Model(decoder_input, decoder_output, name=\"decoder_model\")\n",
    "decoder.summary()\n",
    "\n",
    "\n",
    "####################################################################################"
   ]
  },
  {
   "cell_type": "code",
   "execution_count": 5,
   "id": "31a45a60",
   "metadata": {},
   "outputs": [
    {
     "name": "stdout",
     "output_type": "stream",
     "text": [
      "Model: \"VAE\"\n",
      "_________________________________________________________________\n",
      "Layer (type)                 Output Shape              Param #   \n",
      "=================================================================\n",
      "VAE_input (InputLayer)       [(None, 4, 1, 1)]         0         \n",
      "_________________________________________________________________\n",
      "encoder_model (Functional)   (None, 24)                96688     \n",
      "_________________________________________________________________\n",
      "decoder_model (Functional)   (None, 4, 1, 1)           94849     \n",
      "=================================================================\n",
      "Total params: 191,537\n",
      "Trainable params: 190,769\n",
      "Non-trainable params: 768\n",
      "_________________________________________________________________\n"
     ]
    }
   ],
   "source": [
    "#################################### Variational AutoEncoder ######################\n",
    "vae_input = tensorflow.keras.layers.Input(shape=(img_size1, img_size2, num_channels), name=\"VAE_input\")\n",
    "vae_encoder_output = encoder(vae_input)\n",
    "vae_decoder_output = decoder(vae_encoder_output)\n",
    "vae = tensorflow.keras.models.Model(vae_input, vae_decoder_output, name=\"VAE\")\n",
    "vae.summary()\n",
    "###################################################################################"
   ]
  },
  {
   "cell_type": "code",
   "execution_count": 6,
   "id": "c2f947e8",
   "metadata": {},
   "outputs": [],
   "source": [
    "#################################### Loss fuction Claculating ######################\n",
    "def loss_func(encoder_mu, encoder_log_variance):\n",
    "    def vae_reconstruction_loss(y_true, y_predict):\n",
    "        reconstruction_loss_factor = 1\n",
    "        reconstruction_loss = tensorflow.keras.backend.mean(tensorflow.keras.backend.square(y_true-y_predict), axis=[1, 2, 3])\n",
    "        return reconstruction_loss_factor * reconstruction_loss\n",
    "\n",
    "    def vae_kl_loss(encoder_mu, encoder_log_variance): \n",
    "        kl_loss_factor = 1\n",
    "        kl_loss = -0.5 * tensorflow.keras.backend.sum(1.0 + encoder_log_variance - tensorflow.keras.backend.square(encoder_mu) - tensorflow.keras.backend.exp(encoder_log_variance), axis=1)\n",
    "        return kl_loss * kl_loss_factor\n",
    "\n",
    "    def vae_kl_loss_metric(y_true, y_predict):\n",
    "        kl_loss = -0.5 * tensorflow.keras.backend.sum(1.0 + encoder_log_variance - tensorflow.keras.backend.square(encoder_mu) - tensorflow.keras.backend.exp(encoder_log_variance), axis=1)\n",
    "        return kl_loss\n",
    "\n",
    "    def vae_loss(y_true, y_predict):\n",
    "        reconstruction_loss = vae_reconstruction_loss(y_true, y_predict)\n",
    "        kl_loss = vae_kl_loss(y_true, y_predict)\n",
    "        loss = reconstruction_loss + kl_loss\n",
    "        return loss\n",
    "    return vae_loss\n",
    "vae.compile(loss=loss_func(encoder_mu, encoder_log_variance), optimizer=tensorflow.keras.optimizers.Adam(learning_rate=0.001))\n",
    "encoder.compile(loss=loss_func(encoder_mu, encoder_log_variance), optimizer=tensorflow.keras.optimizers.Adam(learning_rate=0.001))\n",
    "decoder.compile(optimizer='adam', loss='mean_squared_error')\n",
    "# early stopping\n",
    "es = EarlyStopping(monitor='loss', mode='min', verbose=1, patience=5)\n",
    "########################################################################"
   ]
  },
  {
   "cell_type": "code",
   "execution_count": 7,
   "id": "47c2b7cb",
   "metadata": {},
   "outputs": [
    {
     "data": {
      "text/html": [
       "<div>\n",
       "<style scoped>\n",
       "    .dataframe tbody tr th:only-of-type {\n",
       "        vertical-align: middle;\n",
       "    }\n",
       "\n",
       "    .dataframe tbody tr th {\n",
       "        vertical-align: top;\n",
       "    }\n",
       "\n",
       "    .dataframe thead th {\n",
       "        text-align: right;\n",
       "    }\n",
       "</style>\n",
       "<table border=\"1\" class=\"dataframe\">\n",
       "  <thead>\n",
       "    <tr style=\"text-align: right;\">\n",
       "      <th></th>\n",
       "      <th>x</th>\n",
       "      <th>y</th>\n",
       "      <th>f1</th>\n",
       "      <th>f2</th>\n",
       "      <th>f3</th>\n",
       "      <th>f4</th>\n",
       "      <th>class</th>\n",
       "    </tr>\n",
       "  </thead>\n",
       "  <tbody>\n",
       "    <tr>\n",
       "      <th>0</th>\n",
       "      <td>9.675529</td>\n",
       "      <td>34.272031</td>\n",
       "      <td>0.417279</td>\n",
       "      <td>0.291466</td>\n",
       "      <td>0.178125</td>\n",
       "      <td>0.059537</td>\n",
       "      <td>2</td>\n",
       "    </tr>\n",
       "    <tr>\n",
       "      <th>1</th>\n",
       "      <td>9.675799</td>\n",
       "      <td>34.272031</td>\n",
       "      <td>0.416811</td>\n",
       "      <td>0.287341</td>\n",
       "      <td>0.174041</td>\n",
       "      <td>0.062683</td>\n",
       "      <td>2</td>\n",
       "    </tr>\n",
       "    <tr>\n",
       "      <th>2</th>\n",
       "      <td>9.676068</td>\n",
       "      <td>34.272031</td>\n",
       "      <td>0.426065</td>\n",
       "      <td>0.295316</td>\n",
       "      <td>0.177864</td>\n",
       "      <td>0.061448</td>\n",
       "      <td>2</td>\n",
       "    </tr>\n",
       "    <tr>\n",
       "      <th>3</th>\n",
       "      <td>9.676338</td>\n",
       "      <td>34.272031</td>\n",
       "      <td>0.429296</td>\n",
       "      <td>0.297104</td>\n",
       "      <td>0.183020</td>\n",
       "      <td>0.060946</td>\n",
       "      <td>2</td>\n",
       "    </tr>\n",
       "    <tr>\n",
       "      <th>4</th>\n",
       "      <td>9.676607</td>\n",
       "      <td>34.272031</td>\n",
       "      <td>0.419795</td>\n",
       "      <td>0.284674</td>\n",
       "      <td>0.174055</td>\n",
       "      <td>0.057990</td>\n",
       "      <td>2</td>\n",
       "    </tr>\n",
       "    <tr>\n",
       "      <th>...</th>\n",
       "      <td>...</td>\n",
       "      <td>...</td>\n",
       "      <td>...</td>\n",
       "      <td>...</td>\n",
       "      <td>...</td>\n",
       "      <td>...</td>\n",
       "      <td>...</td>\n",
       "    </tr>\n",
       "    <tr>\n",
       "      <th>520868</th>\n",
       "      <td>9.731854</td>\n",
       "      <td>34.032719</td>\n",
       "      <td>0.310868</td>\n",
       "      <td>0.215319</td>\n",
       "      <td>0.134661</td>\n",
       "      <td>0.085891</td>\n",
       "      <td>0</td>\n",
       "    </tr>\n",
       "    <tr>\n",
       "      <th>520869</th>\n",
       "      <td>9.732662</td>\n",
       "      <td>34.032719</td>\n",
       "      <td>0.306000</td>\n",
       "      <td>0.213779</td>\n",
       "      <td>0.131114</td>\n",
       "      <td>0.087122</td>\n",
       "      <td>0</td>\n",
       "    </tr>\n",
       "    <tr>\n",
       "      <th>520870</th>\n",
       "      <td>9.732932</td>\n",
       "      <td>34.032719</td>\n",
       "      <td>0.295344</td>\n",
       "      <td>0.203370</td>\n",
       "      <td>0.125614</td>\n",
       "      <td>0.091204</td>\n",
       "      <td>0</td>\n",
       "    </tr>\n",
       "    <tr>\n",
       "      <th>520871</th>\n",
       "      <td>9.734010</td>\n",
       "      <td>34.032719</td>\n",
       "      <td>0.289995</td>\n",
       "      <td>0.200042</td>\n",
       "      <td>0.122314</td>\n",
       "      <td>0.085809</td>\n",
       "      <td>0</td>\n",
       "    </tr>\n",
       "    <tr>\n",
       "      <th>520872</th>\n",
       "      <td>9.735627</td>\n",
       "      <td>34.032719</td>\n",
       "      <td>0.316216</td>\n",
       "      <td>0.219210</td>\n",
       "      <td>0.134400</td>\n",
       "      <td>0.090708</td>\n",
       "      <td>0</td>\n",
       "    </tr>\n",
       "  </tbody>\n",
       "</table>\n",
       "<p>520873 rows × 7 columns</p>\n",
       "</div>"
      ],
      "text/plain": [
       "               x          y        f1        f2        f3        f4  class\n",
       "0       9.675529  34.272031  0.417279  0.291466  0.178125  0.059537      2\n",
       "1       9.675799  34.272031  0.416811  0.287341  0.174041  0.062683      2\n",
       "2       9.676068  34.272031  0.426065  0.295316  0.177864  0.061448      2\n",
       "3       9.676338  34.272031  0.429296  0.297104  0.183020  0.060946      2\n",
       "4       9.676607  34.272031  0.419795  0.284674  0.174055  0.057990      2\n",
       "...          ...        ...       ...       ...       ...       ...    ...\n",
       "520868  9.731854  34.032719  0.310868  0.215319  0.134661  0.085891      0\n",
       "520869  9.732662  34.032719  0.306000  0.213779  0.131114  0.087122      0\n",
       "520870  9.732932  34.032719  0.295344  0.203370  0.125614  0.091204      0\n",
       "520871  9.734010  34.032719  0.289995  0.200042  0.122314  0.085809      0\n",
       "520872  9.735627  34.032719  0.316216  0.219210  0.134400  0.090708      0\n",
       "\n",
       "[520873 rows x 7 columns]"
      ]
     },
     "execution_count": 7,
     "metadata": {},
     "output_type": "execute_result"
    }
   ],
   "source": [
    "##########################################   Image 1 preparation #######################################\n",
    "datasetf2001 = pd.read_csv('D:/etm data/GoogleEarthEngine/Landsat_07/dataset_2001_2004/insitu_MH_2001.csv')\n",
    "data2001=np.array(datasetf2001.iloc[:, 2:6])\n",
    "datay=np.array(datasetf2001.iloc[:, 6:7])\n",
    "x_train2001, x_test2001 = train_test_split(data2001, test_size = 0.3, random_state = 0)\n",
    "y_train, y_test = train_test_split(datay, test_size = 0.3, random_state = 0)\n",
    "x_train2001 = numpy.reshape(x_train2001, newshape=(x_train2001.shape[0], x_train2001.shape[1],1,1))\n",
    "x_test2001 = numpy.reshape(x_test2001, newshape=( x_test2001.shape[0], x_test2001.shape[1],1,1))\n",
    "y_train = tf.keras.utils.to_categorical(y_train, num_classes=3)\n",
    "datasetf2001"
   ]
  },
  {
   "cell_type": "code",
   "execution_count": 8,
   "id": "b355c2b8",
   "metadata": {},
   "outputs": [
    {
     "data": {
      "text/html": [
       "<div>\n",
       "<style scoped>\n",
       "    .dataframe tbody tr th:only-of-type {\n",
       "        vertical-align: middle;\n",
       "    }\n",
       "\n",
       "    .dataframe tbody tr th {\n",
       "        vertical-align: top;\n",
       "    }\n",
       "\n",
       "    .dataframe thead th {\n",
       "        text-align: right;\n",
       "    }\n",
       "</style>\n",
       "<table border=\"1\" class=\"dataframe\">\n",
       "  <thead>\n",
       "    <tr style=\"text-align: right;\">\n",
       "      <th></th>\n",
       "      <th>x</th>\n",
       "      <th>y</th>\n",
       "      <th>f1</th>\n",
       "      <th>f2</th>\n",
       "      <th>f3</th>\n",
       "      <th>f4</th>\n",
       "      <th>class</th>\n",
       "    </tr>\n",
       "  </thead>\n",
       "  <tbody>\n",
       "    <tr>\n",
       "      <th>0</th>\n",
       "      <td>9.675529</td>\n",
       "      <td>34.272031</td>\n",
       "      <td>0.402543</td>\n",
       "      <td>0.273376</td>\n",
       "      <td>0.161570</td>\n",
       "      <td>0.080215</td>\n",
       "      <td>2</td>\n",
       "    </tr>\n",
       "    <tr>\n",
       "      <th>1</th>\n",
       "      <td>9.675799</td>\n",
       "      <td>34.272031</td>\n",
       "      <td>0.390178</td>\n",
       "      <td>0.264081</td>\n",
       "      <td>0.155245</td>\n",
       "      <td>0.083785</td>\n",
       "      <td>2</td>\n",
       "    </tr>\n",
       "    <tr>\n",
       "      <th>2</th>\n",
       "      <td>9.676068</td>\n",
       "      <td>34.272031</td>\n",
       "      <td>0.401851</td>\n",
       "      <td>0.276548</td>\n",
       "      <td>0.161460</td>\n",
       "      <td>0.084281</td>\n",
       "      <td>2</td>\n",
       "    </tr>\n",
       "    <tr>\n",
       "      <th>3</th>\n",
       "      <td>9.676338</td>\n",
       "      <td>34.272031</td>\n",
       "      <td>0.404697</td>\n",
       "      <td>0.274430</td>\n",
       "      <td>0.161969</td>\n",
       "      <td>0.082022</td>\n",
       "      <td>2</td>\n",
       "    </tr>\n",
       "    <tr>\n",
       "      <th>4</th>\n",
       "      <td>9.676607</td>\n",
       "      <td>34.272031</td>\n",
       "      <td>0.389957</td>\n",
       "      <td>0.262261</td>\n",
       "      <td>0.154241</td>\n",
       "      <td>0.082841</td>\n",
       "      <td>2</td>\n",
       "    </tr>\n",
       "    <tr>\n",
       "      <th>...</th>\n",
       "      <td>...</td>\n",
       "      <td>...</td>\n",
       "      <td>...</td>\n",
       "      <td>...</td>\n",
       "      <td>...</td>\n",
       "      <td>...</td>\n",
       "      <td>...</td>\n",
       "    </tr>\n",
       "    <tr>\n",
       "      <th>520868</th>\n",
       "      <td>9.731854</td>\n",
       "      <td>34.032719</td>\n",
       "      <td>0.297496</td>\n",
       "      <td>0.206746</td>\n",
       "      <td>0.127889</td>\n",
       "      <td>0.103419</td>\n",
       "      <td>0</td>\n",
       "    </tr>\n",
       "    <tr>\n",
       "      <th>520869</th>\n",
       "      <td>9.732662</td>\n",
       "      <td>34.032719</td>\n",
       "      <td>0.288847</td>\n",
       "      <td>0.200311</td>\n",
       "      <td>0.122822</td>\n",
       "      <td>0.114320</td>\n",
       "      <td>0</td>\n",
       "    </tr>\n",
       "    <tr>\n",
       "      <th>520870</th>\n",
       "      <td>9.732932</td>\n",
       "      <td>34.032719</td>\n",
       "      <td>0.280851</td>\n",
       "      <td>0.193064</td>\n",
       "      <td>0.119144</td>\n",
       "      <td>0.113030</td>\n",
       "      <td>0</td>\n",
       "    </tr>\n",
       "    <tr>\n",
       "      <th>520871</th>\n",
       "      <td>9.734010</td>\n",
       "      <td>34.032719</td>\n",
       "      <td>0.269721</td>\n",
       "      <td>0.188169</td>\n",
       "      <td>0.115109</td>\n",
       "      <td>0.110530</td>\n",
       "      <td>0</td>\n",
       "    </tr>\n",
       "    <tr>\n",
       "      <th>520872</th>\n",
       "      <td>9.735627</td>\n",
       "      <td>34.032719</td>\n",
       "      <td>0.303731</td>\n",
       "      <td>0.208911</td>\n",
       "      <td>0.127532</td>\n",
       "      <td>0.116291</td>\n",
       "      <td>0</td>\n",
       "    </tr>\n",
       "  </tbody>\n",
       "</table>\n",
       "<p>520873 rows × 7 columns</p>\n",
       "</div>"
      ],
      "text/plain": [
       "               x          y        f1        f2        f3        f4  class\n",
       "0       9.675529  34.272031  0.402543  0.273376  0.161570  0.080215      2\n",
       "1       9.675799  34.272031  0.390178  0.264081  0.155245  0.083785      2\n",
       "2       9.676068  34.272031  0.401851  0.276548  0.161460  0.084281      2\n",
       "3       9.676338  34.272031  0.404697  0.274430  0.161969  0.082022      2\n",
       "4       9.676607  34.272031  0.389957  0.262261  0.154241  0.082841      2\n",
       "...          ...        ...       ...       ...       ...       ...    ...\n",
       "520868  9.731854  34.032719  0.297496  0.206746  0.127889  0.103419      0\n",
       "520869  9.732662  34.032719  0.288847  0.200311  0.122822  0.114320      0\n",
       "520870  9.732932  34.032719  0.280851  0.193064  0.119144  0.113030      0\n",
       "520871  9.734010  34.032719  0.269721  0.188169  0.115109  0.110530      0\n",
       "520872  9.735627  34.032719  0.303731  0.208911  0.127532  0.116291      0\n",
       "\n",
       "[520873 rows x 7 columns]"
      ]
     },
     "execution_count": 8,
     "metadata": {},
     "output_type": "execute_result"
    }
   ],
   "source": [
    "##########################################   Image 2 preparation #######################################\n",
    "datasetf2004 = pd.read_csv('D:/etm data/GoogleEarthEngine/Landsat_07/dataset_2001_2004/insitu_MH_2004.csv')\n",
    "data2004=np.array(datasetf2004.iloc[:, 2:6])\n",
    "x_train2004, x_test2004 = train_test_split(data2004, test_size = 0.3, random_state = 0)\n",
    "x_train2004 = numpy.reshape(x_train2004, newshape=(x_train2004.shape[0], x_train2004.shape[1],1,1))\n",
    "x_test2004 = numpy.reshape(x_test2004, newshape=( x_test2004.shape[0], x_test2004.shape[1],1,1))\n",
    "datasetf2004"
   ]
  },
  {
   "cell_type": "code",
   "execution_count": 9,
   "id": "dc61b4e4",
   "metadata": {
    "scrolled": true
   },
   "outputs": [
    {
     "name": "stdout",
     "output_type": "stream",
     "text": [
      "Epoch 1/1000\n",
      "1425/1425 [==============================] - 33s 17ms/step - loss: 0.1517 - val_loss: 0.1489\n",
      "Epoch 2/1000\n",
      "1425/1425 [==============================] - 23s 16ms/step - loss: 0.1486 - val_loss: 0.1489\n",
      "Epoch 3/1000\n",
      "1425/1425 [==============================] - 24s 16ms/step - loss: 0.1486 - val_loss: 0.1488\n",
      "Epoch 4/1000\n",
      "1425/1425 [==============================] - 23s 16ms/step - loss: 0.1486 - val_loss: 0.1488\n",
      "Epoch 5/1000\n",
      "1425/1425 [==============================] - 24s 17ms/step - loss: 0.1485 - val_loss: 0.1483\n",
      "Epoch 6/1000\n",
      "1425/1425 [==============================] - 25s 18ms/step - loss: 0.1485 - val_loss: 0.1483\n",
      "Epoch 7/1000\n",
      "1425/1425 [==============================] - 33s 23ms/step - loss: 0.1485 - val_loss: 0.1482\n",
      "Epoch 8/1000\n",
      "1425/1425 [==============================] - 30s 21ms/step - loss: 0.1485 - val_loss: 0.1483\n",
      "Epoch 9/1000\n",
      "1425/1425 [==============================] - 32s 22ms/step - loss: 0.1485 - val_loss: 0.1482\n",
      "Epoch 10/1000\n",
      "1425/1425 [==============================] - 33s 23ms/step - loss: 0.1485 - val_loss: 0.1483\n",
      "Epoch 11/1000\n",
      "1425/1425 [==============================] - 40s 28ms/step - loss: 0.1485 - val_loss: 0.1482\n",
      "Epoch 12/1000\n",
      "1425/1425 [==============================] - 36s 25ms/step - loss: 0.1485 - val_loss: 0.1482\n",
      "Epoch 13/1000\n",
      "1425/1425 [==============================] - 33s 23ms/step - loss: 0.1485 - val_loss: 0.1483\n",
      "Epoch 14/1000\n",
      "1425/1425 [==============================] - 33s 23ms/step - loss: 0.1485 - val_loss: 0.1482\n",
      "Epoch 15/1000\n",
      "1425/1425 [==============================] - 32s 22ms/step - loss: 0.1485 - val_loss: 0.1482\n",
      "Epoch 16/1000\n",
      "1425/1425 [==============================] - 32s 22ms/step - loss: 0.1485 - val_loss: 0.1482\n",
      "Epoch 17/1000\n",
      "1425/1425 [==============================] - 32s 22ms/step - loss: 0.1485 - val_loss: 0.1482\n",
      "Epoch 18/1000\n",
      "1425/1425 [==============================] - 28s 20ms/step - loss: 0.1485 - val_loss: 0.1482\n",
      "Epoch 19/1000\n",
      "1425/1425 [==============================] - 26s 18ms/step - loss: 0.1485 - val_loss: 0.1482\n",
      "Epoch 20/1000\n",
      "1425/1425 [==============================] - 22s 15ms/step - loss: 0.1485 - val_loss: 0.1482\n",
      "Epoch 21/1000\n",
      "1425/1425 [==============================] - 22s 16ms/step - loss: 0.1485 - val_loss: 0.1483\n",
      "Epoch 22/1000\n",
      "1425/1425 [==============================] - 22s 16ms/step - loss: 0.1485 - val_loss: 0.1482\n",
      "Epoch 23/1000\n",
      "1425/1425 [==============================] - 22s 15ms/step - loss: 0.1485 - val_loss: 0.1482\n",
      "Epoch 24/1000\n",
      "1425/1425 [==============================] - 22s 15ms/step - loss: 0.1485 - val_loss: 0.1482\n",
      "Epoch 25/1000\n",
      "1425/1425 [==============================] - 23s 16ms/step - loss: 0.1485 - val_loss: 0.1482\n",
      "Epoch 26/1000\n",
      "1425/1425 [==============================] - 22s 15ms/step - loss: 0.1485 - val_loss: 0.1482\n",
      "Epoch 27/1000\n",
      "1425/1425 [==============================] - 23s 16ms/step - loss: 0.1485 - val_loss: 0.1482\n",
      "Epoch 28/1000\n",
      "1425/1425 [==============================] - 23s 16ms/step - loss: 0.1485 - val_loss: 0.1482\n",
      "Epoch 29/1000\n",
      "1425/1425 [==============================] - 23s 16ms/step - loss: 0.1485 - val_loss: 0.1482\n",
      "Epoch 30/1000\n",
      "1425/1425 [==============================] - 23s 16ms/step - loss: 0.1485 - val_loss: 0.1482\n",
      "Epoch 31/1000\n",
      "1425/1425 [==============================] - 22s 16ms/step - loss: 0.1485 - val_loss: 0.1482\n",
      "Epoch 32/1000\n",
      "1425/1425 [==============================] - 22s 16ms/step - loss: 0.1485 - val_loss: 0.1482\n",
      "Epoch 33/1000\n",
      "1425/1425 [==============================] - 22s 16ms/step - loss: 0.1485 - val_loss: 0.1482\n",
      "Epoch 00033: early stopping\n"
     ]
    }
   ],
   "source": [
    "##########################################   VAE Training #######################################\n",
    "hist=vae.fit(x_train2001,x_train2001, epochs=1000, batch_size=256 ,validation_data=( x_test2001,x_test2001),callbacks=[es])"
   ]
  },
  {
   "cell_type": "code",
   "execution_count": 133,
   "id": "fcae01d1",
   "metadata": {},
   "outputs": [
    {
     "name": "stdout",
     "output_type": "stream",
     "text": [
      "encoder_input False\n",
      "encoder_conv_1 False\n",
      "encoder_norm_2 False\n",
      "encoder_activ_layer_2 False\n",
      "encoder_conv_2 False\n",
      "encoder_norm_3 False\n",
      "encoder_activ_layer_3 False\n",
      "encoder_conv_3 False\n",
      "encoder_norm_4 False\n",
      "encoder_activ_layer_4 False\n",
      "encoder_conv_4 False\n",
      "encoder_norm_5 False\n",
      "encoder_activ_layer_5 False\n",
      "flatten False\n",
      "encoder_mu False\n",
      "encoder_log_variance False\n",
      "encoder_output False\n"
     ]
    }
   ],
   "source": [
    "##########################################   feature extraction Model preparation #######################################\n",
    "feature_extraction_model = Model(inputs=encoder.input,\n",
    "                                 outputs=vae.get_layer('encoder_model').output)\n",
    "weights = feature_extraction_model.get_weights()\n",
    "for l in feature_extraction_model.layers:\n",
    "    l.trainable = False\n",
    "    print(l.name, l.trainable)\n",
    "# re-compile the model\n",
    "feature_extraction_model.compile(loss=loss_func(encoder_mu, encoder_log_variance), optimizer=tensorflow.keras.optimizers.Adam(learning_rate=0.01))"
   ]
  },
  {
   "cell_type": "code",
   "execution_count": 134,
   "id": "289860b8",
   "metadata": {
    "scrolled": false
   },
   "outputs": [
    {
     "name": "stdout",
     "output_type": "stream",
     "text": [
      "Model: \"model_29\"\n",
      "__________________________________________________________________________________________________\n",
      "Layer (type)                    Output Shape         Param #     Connected to                     \n",
      "==================================================================================================\n",
      "s_input1 (InputLayer)           [(None, 4, 1, 1)]    0                                            \n",
      "__________________________________________________________________________________________________\n",
      "s_input2 (InputLayer)           [(None, 4, 1, 1)]    0                                            \n",
      "__________________________________________________________________________________________________\n",
      "model_28 (Functional)           (None, 24)           96688       s_input1[0][0]                   \n",
      "                                                                 s_input2[0][0]                   \n",
      "__________________________________________________________________________________________________\n",
      "concatenate_22 (Concatenate)    (None, 48)           0           model_28[0][0]                   \n",
      "                                                                 model_28[1][0]                   \n",
      "__________________________________________________________________________________________________\n",
      "classifier (Dense)              (None, 3)            147         concatenate_22[0][0]             \n",
      "==================================================================================================\n",
      "Total params: 96,835\n",
      "Trainable params: 147\n",
      "Non-trainable params: 96,688\n",
      "__________________________________________________________________________________________________\n"
     ]
    }
   ],
   "source": [
    "##########################################   siamese VAE creation #######################################\n",
    "vae_in_1 = tensorflow.keras.layers.Input(shape=(img_size1, img_size2, num_channels), name=\"s_input1\")\n",
    "vae_in_2 = tensorflow.keras.layers.Input(shape=(img_size1, img_size2, num_channels), name=\"s_input2\")\n",
    "concatted = tf.keras.layers.Concatenate()([feature_extraction_model(vae_in_1), feature_extraction_model(vae_in_2)])\n",
    "prediction = Dense(3, activation='softmax',name=\"classifier\")(concatted)\n",
    "Siamese_vae=Model(inputs=[vae_in_1,vae_in_2],outputs=prediction)\n",
    "Siamese_vae.compile(optimizer=tensorflow.keras.optimizers.Adam(learning_rate=0.001), loss='categorical_crossentropy', metrics=['accuracy'])\n",
    "Siamese_vae.summary()"
   ]
  },
  {
   "cell_type": "code",
   "execution_count": 135,
   "id": "1e5db6e5",
   "metadata": {
    "scrolled": true
   },
   "outputs": [
    {
     "name": "stdout",
     "output_type": "stream",
     "text": [
      "Epoch 1/1000\n",
      "1425/1425 [==============================] - 6s 3ms/step - loss: 0.1839 - accuracy: 0.9360\n",
      "Epoch 2/1000\n",
      "1425/1425 [==============================] - 4s 3ms/step - loss: 0.1174 - accuracy: 0.9533\n",
      "Epoch 3/1000\n",
      "1425/1425 [==============================] - 4s 3ms/step - loss: 0.1070 - accuracy: 0.9571\n",
      "Epoch 4/1000\n",
      "1425/1425 [==============================] - 4s 3ms/step - loss: 0.1008 - accuracy: 0.9598: 0s - loss: 0.1007 - accuracy: 0.95\n",
      "Epoch 5/1000\n",
      "1425/1425 [==============================] - 4s 3ms/step - loss: 0.0961 - accuracy: 0.9612\n",
      "Epoch 6/1000\n",
      "1425/1425 [==============================] - 4s 3ms/step - loss: 0.0939 - accuracy: 0.9623\n",
      "Epoch 7/1000\n",
      "1425/1425 [==============================] - 5s 3ms/step - loss: 0.0897 - accuracy: 0.9638\n",
      "Epoch 8/1000\n",
      "1425/1425 [==============================] - 6s 4ms/step - loss: 0.0895 - accuracy: 0.9640\n",
      "Epoch 9/1000\n",
      "1425/1425 [==============================] - 4s 3ms/step - loss: 0.0863 - accuracy: 0.9651\n",
      "Epoch 10/1000\n",
      "1425/1425 [==============================] - 4s 3ms/step - loss: 0.0875 - accuracy: 0.9649\n",
      "Epoch 11/1000\n",
      "1425/1425 [==============================] - 5s 3ms/step - loss: 0.0842 - accuracy: 0.9661: 0s - loss: 0.0\n",
      "Epoch 12/1000\n",
      "1425/1425 [==============================] - 5s 3ms/step - loss: 0.0853 - accuracy: 0.9661\n",
      "Epoch 13/1000\n",
      "1425/1425 [==============================] - 4s 3ms/step - loss: 0.0851 - accuracy: 0.9662\n",
      "Epoch 14/1000\n",
      "1425/1425 [==============================] - 5s 3ms/step - loss: 0.0835 - accuracy: 0.9666\n",
      "Epoch 15/1000\n",
      "1425/1425 [==============================] - 3s 2ms/step - loss: 0.0837 - accuracy: 0.9669\n",
      "Epoch 16/1000\n",
      "1425/1425 [==============================] - 4s 3ms/step - loss: 0.0836 - accuracy: 0.9668\n",
      "Epoch 17/1000\n",
      "1425/1425 [==============================] - 3s 2ms/step - loss: 0.0832 - accuracy: 0.9671\n",
      "Epoch 18/1000\n",
      "1425/1425 [==============================] - 3s 2ms/step - loss: 0.0801 - accuracy: 0.9680\n",
      "Epoch 19/1000\n",
      "1425/1425 [==============================] - 3s 2ms/step - loss: 0.0815 - accuracy: 0.9675\n",
      "Epoch 20/1000\n",
      "1425/1425 [==============================] - 3s 2ms/step - loss: 0.0814 - accuracy: 0.9676\n",
      "Epoch 21/1000\n",
      "1425/1425 [==============================] - 3s 2ms/step - loss: 0.0792 - accuracy: 0.9685\n",
      "Epoch 22/1000\n",
      "1425/1425 [==============================] - 3s 2ms/step - loss: 0.0786 - accuracy: 0.9687\n",
      "Epoch 23/1000\n",
      "1425/1425 [==============================] - 3s 2ms/step - loss: 0.0786 - accuracy: 0.9688\n",
      "Epoch 24/1000\n",
      "1425/1425 [==============================] - 3s 2ms/step - loss: 0.0795 - accuracy: 0.9686\n",
      "Epoch 25/1000\n",
      "1425/1425 [==============================] - 3s 2ms/step - loss: 0.0777 - accuracy: 0.9692\n",
      "Epoch 26/1000\n",
      "1425/1425 [==============================] - 3s 2ms/step - loss: 0.0790 - accuracy: 0.9687\n",
      "Epoch 27/1000\n",
      "1425/1425 [==============================] - 3s 2ms/step - loss: 0.0796 - accuracy: 0.9687\n",
      "Epoch 28/1000\n",
      "1425/1425 [==============================] - 3s 2ms/step - loss: 0.0771 - accuracy: 0.9696\n",
      "Epoch 29/1000\n",
      "1425/1425 [==============================] - 3s 2ms/step - loss: 0.0776 - accuracy: 0.9696\n",
      "Epoch 30/1000\n",
      "1425/1425 [==============================] - 3s 2ms/step - loss: 0.0790 - accuracy: 0.9691\n",
      "Epoch 31/1000\n",
      "1425/1425 [==============================] - 3s 2ms/step - loss: 0.0772 - accuracy: 0.9695\n",
      "Epoch 32/1000\n",
      "1425/1425 [==============================] - 3s 2ms/step - loss: 0.0785 - accuracy: 0.9691\n",
      "Epoch 33/1000\n",
      "1425/1425 [==============================] - 3s 2ms/step - loss: 0.0783 - accuracy: 0.9693\n",
      "Epoch 34/1000\n",
      "1425/1425 [==============================] - 3s 2ms/step - loss: 0.0771 - accuracy: 0.9699\n",
      "Epoch 35/1000\n",
      "1425/1425 [==============================] - 3s 2ms/step - loss: 0.0763 - accuracy: 0.9700\n",
      "Epoch 36/1000\n",
      "1425/1425 [==============================] - 3s 2ms/step - loss: 0.0784 - accuracy: 0.9693\n",
      "Epoch 37/1000\n",
      "1425/1425 [==============================] - 3s 2ms/step - loss: 0.0761 - accuracy: 0.9703\n",
      "Epoch 38/1000\n",
      "1425/1425 [==============================] - 3s 2ms/step - loss: 0.0795 - accuracy: 0.9690\n",
      "Epoch 39/1000\n",
      "1425/1425 [==============================] - 3s 2ms/step - loss: 0.0748 - accuracy: 0.9705\n",
      "Epoch 40/1000\n",
      "1425/1425 [==============================] - 3s 2ms/step - loss: 0.0790 - accuracy: 0.9695TA: 0s - loss: 0.0790 - accuracy: 0.96\n",
      "Epoch 41/1000\n",
      "1425/1425 [==============================] - 3s 2ms/step - loss: 0.0773 - accuracy: 0.9699\n",
      "Epoch 42/1000\n",
      "1425/1425 [==============================] - 3s 2ms/step - loss: 0.0754 - accuracy: 0.9705\n",
      "Epoch 43/1000\n",
      "1425/1425 [==============================] - 3s 2ms/step - loss: 0.0766 - accuracy: 0.9702\n",
      "Epoch 44/1000\n",
      "1425/1425 [==============================] - 3s 2ms/step - loss: 0.0772 - accuracy: 0.9702\n",
      "Epoch 45/1000\n",
      "1425/1425 [==============================] - 3s 2ms/step - loss: 0.0780 - accuracy: 0.9699\n",
      "Epoch 46/1000\n",
      "1425/1425 [==============================] - 3s 2ms/step - loss: 0.0772 - accuracy: 0.9700\n",
      "Epoch 47/1000\n",
      "1425/1425 [==============================] - 3s 2ms/step - loss: 0.0764 - accuracy: 0.9703\n",
      "Epoch 48/1000\n",
      "1425/1425 [==============================] - 3s 2ms/step - loss: 0.0752 - accuracy: 0.9710\n",
      "Epoch 49/1000\n",
      "1425/1425 [==============================] - 3s 2ms/step - loss: 0.0770 - accuracy: 0.9705\n",
      "Epoch 50/1000\n",
      "1425/1425 [==============================] - 3s 2ms/step - loss: 0.0773 - accuracy: 0.9701\n",
      "Epoch 51/1000\n",
      "1425/1425 [==============================] - 3s 2ms/step - loss: 0.0761 - accuracy: 0.9702\n",
      "Epoch 52/1000\n",
      "1425/1425 [==============================] - 3s 2ms/step - loss: 0.0782 - accuracy: 0.9701\n",
      "Epoch 53/1000\n",
      "1425/1425 [==============================] - 3s 2ms/step - loss: 0.0756 - accuracy: 0.9707\n",
      "Epoch 54/1000\n",
      "1425/1425 [==============================] - 3s 2ms/step - loss: 0.0753 - accuracy: 0.9706\n",
      "Epoch 55/1000\n",
      "1425/1425 [==============================] - 3s 2ms/step - loss: 0.0754 - accuracy: 0.9709: 0s - loss: 0.0754 - accura\n",
      "Epoch 56/1000\n",
      "1425/1425 [==============================] - 3s 2ms/step - loss: 0.0759 - accuracy: 0.9706\n",
      "Epoch 57/1000\n",
      "1425/1425 [==============================] - 3s 2ms/step - loss: 0.0753 - accuracy: 0.9709\n",
      "Epoch 58/1000\n",
      "1425/1425 [==============================] - 3s 2ms/step - loss: 0.0757 - accuracy: 0.9710\n",
      "Epoch 59/1000\n",
      "1425/1425 [==============================] - 3s 2ms/step - loss: 0.0758 - accuracy: 0.9707\n",
      "Epoch 60/1000\n",
      "1425/1425 [==============================] - 3s 2ms/step - loss: 0.0745 - accuracy: 0.9712\n",
      "Epoch 61/1000\n",
      "1425/1425 [==============================] - 3s 2ms/step - loss: 0.0748 - accuracy: 0.9710\n",
      "Epoch 62/1000\n",
      "1425/1425 [==============================] - 3s 2ms/step - loss: 0.0752 - accuracy: 0.9713\n",
      "Epoch 63/1000\n",
      "1425/1425 [==============================] - 3s 2ms/step - loss: 0.0751 - accuracy: 0.9711\n",
      "Epoch 64/1000\n",
      "1425/1425 [==============================] - 3s 2ms/step - loss: 0.0764 - accuracy: 0.9707\n",
      "Epoch 65/1000\n",
      "1425/1425 [==============================] - 3s 2ms/step - loss: 0.0741 - accuracy: 0.9713\n",
      "Epoch 66/1000\n",
      "1425/1425 [==============================] - 3s 2ms/step - loss: 0.0752 - accuracy: 0.9712\n",
      "Epoch 67/1000\n",
      "1425/1425 [==============================] - 3s 2ms/step - loss: 0.0759 - accuracy: 0.9710\n",
      "Epoch 68/1000\n",
      "1425/1425 [==============================] - 3s 2ms/step - loss: 0.0750 - accuracy: 0.9713\n",
      "Epoch 69/1000\n",
      "1425/1425 [==============================] - 3s 2ms/step - loss: 0.0743 - accuracy: 0.9710\n",
      "Epoch 70/1000\n",
      "1425/1425 [==============================] - 3s 2ms/step - loss: 0.0772 - accuracy: 0.9706\n",
      "Epoch 71/1000\n",
      "1425/1425 [==============================] - 3s 2ms/step - loss: 0.0741 - accuracy: 0.9717\n",
      "Epoch 72/1000\n",
      "1425/1425 [==============================] - 3s 2ms/step - loss: 0.0754 - accuracy: 0.9712\n",
      "Epoch 73/1000\n",
      "1425/1425 [==============================] - 3s 2ms/step - loss: 0.0756 - accuracy: 0.9713\n",
      "Epoch 74/1000\n",
      "1425/1425 [==============================] - 3s 2ms/step - loss: 0.0744 - accuracy: 0.9714\n",
      "Epoch 75/1000\n",
      "1425/1425 [==============================] - 3s 2ms/step - loss: 0.0746 - accuracy: 0.9714\n",
      "Epoch 76/1000\n",
      "1425/1425 [==============================] - 3s 2ms/step - loss: 0.0768 - accuracy: 0.9711\n",
      "Epoch 77/1000\n",
      "1425/1425 [==============================] - 3s 2ms/step - loss: 0.0764 - accuracy: 0.9712\n"
     ]
    },
    {
     "name": "stdout",
     "output_type": "stream",
     "text": [
      "Epoch 78/1000\n",
      "1425/1425 [==============================] - 3s 2ms/step - loss: 0.0728 - accuracy: 0.9720\n",
      "Epoch 79/1000\n",
      "1425/1425 [==============================] - 3s 2ms/step - loss: 0.0758 - accuracy: 0.9712\n",
      "Epoch 80/1000\n",
      "1425/1425 [==============================] - 3s 2ms/step - loss: 0.0747 - accuracy: 0.9718\n",
      "Epoch 81/1000\n",
      "1425/1425 [==============================] - 3s 2ms/step - loss: 0.0735 - accuracy: 0.9719\n",
      "Epoch 82/1000\n",
      "1425/1425 [==============================] - 3s 2ms/step - loss: 0.0750 - accuracy: 0.9719\n",
      "Epoch 83/1000\n",
      "1425/1425 [==============================] - 3s 2ms/step - loss: 0.0749 - accuracy: 0.9714\n",
      "Epoch 84/1000\n",
      "1425/1425 [==============================] - 3s 2ms/step - loss: 0.0740 - accuracy: 0.9718\n",
      "Epoch 85/1000\n",
      "1425/1425 [==============================] - 3s 2ms/step - loss: 0.0760 - accuracy: 0.9711\n",
      "Epoch 86/1000\n",
      "1425/1425 [==============================] - 3s 2ms/step - loss: 0.0757 - accuracy: 0.9717\n",
      "Epoch 87/1000\n",
      "1425/1425 [==============================] - 3s 2ms/step - loss: 0.0736 - accuracy: 0.9720\n",
      "Epoch 88/1000\n",
      "1425/1425 [==============================] - 3s 2ms/step - loss: 0.0760 - accuracy: 0.9713\n",
      "Epoch 00088: early stopping\n",
      "--- 274.4458875656128 seconds ---\n"
     ]
    }
   ],
   "source": [
    "##########################################   Siamese VAE Training #######################################\n",
    "import time\n",
    "start_time = time.time()\n",
    "ces = EarlyStopping(monitor='accuracy', mode='max', verbose=1, patience=10)\n",
    "history=Siamese_vae.fit([x_train2001,x_train2004],y_train,batch_size=256,epochs=1000,callbacks=[ces]) \n",
    "print(\"--- %s seconds ---\" % (time.time() - start_time))"
   ]
  },
  {
   "cell_type": "code",
   "execution_count": 136,
   "id": "e8beb639",
   "metadata": {},
   "outputs": [
    {
     "name": "stdout",
     "output_type": "stream",
     "text": [
      "dict_keys(['loss', 'accuracy'])\n"
     ]
    },
    {
     "data": {
      "image/png": "[encoded data removed]",
      "text/plain": [
       "<Figure size 432x288 with 1 Axes>"
      ]
     },
     "metadata": {
      "needs_background": "light"
     },
     "output_type": "display_data"
    },
    {
     "data": {
      "image/png": "[encoded data removed]",
      "text/plain": [
       "<Figure size 432x288 with 1 Axes>"
      ]
     },
     "metadata": {
      "needs_background": "light"
     },
     "output_type": "display_data"
    }
   ],
   "source": [
    "# list all data in history\n",
    "print(history.history.keys())\n",
    "# summarize history for accuracy\n",
    "plt.plot(history.history['accuracy'])\n",
    "plt.plot(history.history['accuracy'])\n",
    "plt.title('model accuracy')\n",
    "plt.ylabel('accuracy')\n",
    "plt.xlabel('epoch')\n",
    "plt.legend(['train', 'test'], loc='upper right')\n",
    "plt.show()\n",
    "# summarize history for loss\n",
    "plt.plot(history.history['loss'])\n",
    "plt.plot(history.history['loss'])\n",
    "plt.title('model loss')\n",
    "plt.ylabel('loss')\n",
    "plt.xlabel('epoch')\n",
    "plt.legend(['train', 'test'], loc='upper right')\n",
    "plt.show()"
   ]
  },
  {
   "cell_type": "code",
   "execution_count": 137,
   "id": "2e7b4584",
   "metadata": {},
   "outputs": [],
   "source": [
    "data2001 = numpy.reshape(data2001, newshape=(data2001.shape[0], data2001.shape[1],1,1))\n",
    "data2004 = numpy.reshape(data2004, newshape=(data2004.shape[0], data2004.shape[1],1,1))\n",
    "Y_pred=Siamese_vae.predict([data2001,data2004])\n",
    "datasetvae2001_class = pd.DataFrame(datasetf2001['x'])\n",
    "datasetvae2004_class = pd.DataFrame(datasetf2001['x'])\n",
    "datasetvae2001_class['y'] = pd.DataFrame(datasetf2001['y'],columns=['y'])\n",
    "datasetvae2004_class['y'] = pd.DataFrame(datasetf2001['y'],columns=['y'])\n",
    "datasetvae2001_class['f1'] = pd.DataFrame(datasetf2001['f1'])\n",
    "datasetvae2001_class['f2'] = pd.DataFrame(datasetf2001['f2'])\n",
    "datasetvae2001_class['f3'] = pd.DataFrame(datasetf2001['f3'])\n",
    "datasetvae2001_class['f4'] = pd.DataFrame(datasetf2001['f4'])\n",
    "datasetvae2004_class['f1'] = pd.DataFrame(datasetf2004['f1'])\n",
    "datasetvae2004_class['f2'] = pd.DataFrame(datasetf2004['f2'])\n",
    "datasetvae2004_class['f3'] = pd.DataFrame(datasetf2004['f3'])\n",
    "datasetvae2004_class['f4'] = pd.DataFrame(datasetf2004['f4'])\n",
    "datasetvae2001_class['class'] = datay\n",
    "datasetvae2001_class['pred'] = np.argmax(Y_pred, axis=1)\n",
    "datasetvae2001_class.to_csv(r'D:/etm data/GoogleEarthEngine/Landsat_07/dataset_2001_2004/y_pred_insitu_MH_2001.csv')\n",
    "datasetvae2004_class['class'] = datay\n",
    "datasetvae2004_class['pred'] = np.argmax(Y_pred, axis=1)\n",
    "datasetvae2004_class.to_csv(r'D:/etm data/GoogleEarthEngine/Landsat_07/dataset_2001_2004/y_pred_insitu_MH_2004.csv')"
   ]
  },
  {
   "cell_type": "code",
   "execution_count": 138,
   "id": "cb143d3a",
   "metadata": {},
   "outputs": [],
   "source": [
    "##########################################   Metrix preparation #######################################\n",
    "from sklearn.metrics import recall_score\n",
    "mse = sklearn.metrics.mean_squared_error(datay, np.argmax(Y_pred, axis=1))\n",
    "rmse = math.sqrt(mse)\n",
    "r2=sklearn.metrics.r2_score(datay, np.argmax(Y_pred, axis=1))\n",
    "precision_sc=sklearn.metrics.precision_score(datay, np.argmax(Y_pred, axis=1), average='macro')\n",
    "f1_sc=sklearn.metrics.f1_score(datay, np.argmax(Y_pred, axis=1), average='macro')\n",
    "confusion_mat=sklearn.metrics.confusion_matrix(datay, np.argmax(Y_pred, axis=1))\n",
    "fpr, tpr, thresholds = sklearn.metrics.roc_curve(datay, np.argmax(Y_pred, axis=1), pos_label=2)\n",
    "recall_score=recall_score(datay, np.argmax(Y_pred, axis=1), average=None)\n",
    "auc=sklearn.metrics.auc(fpr, tpr)"
   ]
  },
  {
   "cell_type": "code",
   "execution_count": 139,
   "id": "de86af4c",
   "metadata": {},
   "outputs": [
    {
     "data": {
      "text/plain": [
       "array([0.98326306, 0.96927489, 0.96863443])"
      ]
     },
     "execution_count": 139,
     "metadata": {},
     "output_type": "execute_result"
    }
   ],
   "source": [
    "recall_score"
   ]
  },
  {
   "cell_type": "code",
   "execution_count": 140,
   "id": "b256a9e9",
   "metadata": {},
   "outputs": [
    {
     "data": {
      "text/plain": [
       "0.2858444632847108"
      ]
     },
     "execution_count": 140,
     "metadata": {},
     "output_type": "execute_result"
    }
   ],
   "source": [
    "rmse"
   ]
  },
  {
   "cell_type": "code",
   "execution_count": 141,
   "id": "df65f045",
   "metadata": {},
   "outputs": [
    {
     "data": {
      "text/plain": [
       "0.9053850980441429"
      ]
     },
     "execution_count": 141,
     "metadata": {},
     "output_type": "execute_result"
    }
   ],
   "source": [
    "r2"
   ]
  },
  {
   "cell_type": "code",
   "execution_count": 142,
   "id": "412d3c45",
   "metadata": {},
   "outputs": [
    {
     "data": {
      "text/plain": [
       "0.9742245388203278"
      ]
     },
     "execution_count": 142,
     "metadata": {},
     "output_type": "execute_result"
    }
   ],
   "source": [
    "precision_sc"
   ]
  },
  {
   "cell_type": "code",
   "execution_count": 143,
   "id": "f340d9b1",
   "metadata": {},
   "outputs": [
    {
     "data": {
      "text/plain": [
       "0.9739440429446663"
      ]
     },
     "execution_count": 143,
     "metadata": {},
     "output_type": "execute_result"
    }
   ],
   "source": [
    "f1_sc"
   ]
  },
  {
   "cell_type": "code",
   "execution_count": 144,
   "id": "6e609be8",
   "metadata": {},
   "outputs": [
    {
     "data": {
      "text/plain": [
       "array([0.        , 0.0200584 , 0.25859726, 1.        ])"
      ]
     },
     "execution_count": 144,
     "metadata": {},
     "output_type": "execute_result"
    }
   ],
   "source": [
    "fpr"
   ]
  },
  {
   "cell_type": "code",
   "execution_count": 145,
   "id": "cdd80241",
   "metadata": {},
   "outputs": [
    {
     "data": {
      "text/plain": [
       "array([0.        , 0.96863443, 0.97489104, 1.        ])"
      ]
     },
     "execution_count": 145,
     "metadata": {},
     "output_type": "execute_result"
    }
   ],
   "source": [
    "tpr"
   ]
  },
  {
   "cell_type": "code",
   "execution_count": 146,
   "id": "730e63b1",
   "metadata": {},
   "outputs": [
    {
     "data": {
      "text/plain": [
       "0.9736126160516413"
      ]
     },
     "execution_count": 146,
     "metadata": {},
     "output_type": "execute_result"
    }
   ],
   "source": [
    "auc"
   ]
  },
  {
   "cell_type": "code",
   "execution_count": 147,
   "id": "c11ad895",
   "metadata": {},
   "outputs": [
    {
     "data": {
      "text/plain": [
       "97.43565130079693"
      ]
     },
     "execution_count": 147,
     "metadata": {},
     "output_type": "execute_result"
    }
   ],
   "source": [
    "from sklearn.metrics import accuracy_score\n",
    "accuracy=sklearn.metrics.accuracy_score(datay, np.argmax(Y_pred, axis=1))\n",
    "accuracy*100"
   ]
  },
  {
   "cell_type": "code",
   "execution_count": 148,
   "id": "2925095f",
   "metadata": {},
   "outputs": [
    {
     "data": {
      "image/png": "[encoded data removed]",
      "text/plain": [
       "<Figure size 432x288 with 1 Axes>"
      ]
     },
     "metadata": {
      "needs_background": "light"
     },
     "output_type": "display_data"
    }
   ],
   "source": [
    "from sklearn.metrics import RocCurveDisplay\n",
    "roc_display = RocCurveDisplay(fpr=fpr, tpr=tpr).plot()"
   ]
  },
  {
   "cell_type": "code",
   "execution_count": 149,
   "id": "e1a06d12",
   "metadata": {},
   "outputs": [
    {
     "data": {
      "text/plain": [
       "<AxesSubplot:>"
      ]
     },
     "execution_count": 149,
     "metadata": {},
     "output_type": "execute_result"
    },
    {
     "data": {
      "image/png": "[encoded data removed]",
      "text/plain": [
       "<Figure size 360x360 with 2 Axes>"
      ]
     },
     "metadata": {
      "needs_background": "light"
     },
     "output_type": "display_data"
    }
   ],
   "source": [
    "import seaborn as sn\n",
    "df_cm = pd.DataFrame(confusion_mat, index = [\"0.low\",\"1.high\",\"2.very high\"],columns = [\"0.low\",\"1.high\",\"2.very high\"])\n",
    "plt.figure(figsize = (5,5))\n",
    "sn.heatmap(df_cm, annot=True, fmt=\"d\",cmap=\"YlGnBu\")"
   ]
  },
  {
   "cell_type": "code",
   "execution_count": null,
   "id": "44e58ed7",
   "metadata": {},
   "outputs": [],
   "source": []
  }
 ],
 "metadata": {
  "kernelspec": {
   "display_name": "Python 3",
   "language": "python",
   "name": "python3"
  },
  "language_info": {
   "codemirror_mode": {
    "name": "ipython",
    "version": 3
   },
   "file_extension": ".py",
   "mimetype": "text/x-python",
   "name": "python",
   "nbconvert_exporter": "python",
   "pygments_lexer": "ipython3",
   "version": "3.6.15"
  }
 },
 "nbformat": 4,
 "nbformat_minor": 5
}
