{
 "cells": [
  {
   "cell_type": "code",
   "execution_count": 23,
   "id": "eae91987",
   "metadata": {
    "scrolled": false
   },
   "outputs": [],
   "source": [
    "import tensorflow as tf\n",
    "import tensorflow\n",
    "import sklearn\n",
    "import math\n",
    "import keras\n",
    "import numpy\n",
    "import pandas\n",
    "import os\n",
    "import time\n",
    "import csv\n",
    "import pandas as pd\n",
    "import numpy as np\n",
    "import matplotlib.pyplot as plt\n",
    "from IPython import display\n",
    "import matplotlib.image as mpimg\n",
    "from keras.utils import np_utils\n",
    "import matplotlib.pyplot\n",
    "from keras.models import Sequential,Model\n",
    "from keras.losses import mse,sparse_categorical_crossentropy\n",
    "from keras.layers import Dense, Conv2D, Conv1D, Conv3D, Flatten,Activation,MaxPool1D,MaxPooling1D,Dropout,LSTM\n",
    "from sklearn.model_selection import train_test_split\n",
    "from sklearn.metrics import mean_squared_error\n",
    "from sklearn.preprocessing import StandardScaler\n",
    "from keras.layers import Lambda, Input, Dense\n",
    "from keras.callbacks import EarlyStopping,ModelCheckpoint,TensorBoard"
   ]
  },
  {
   "cell_type": "code",
   "execution_count": 24,
   "id": "ff4164e8",
   "metadata": {},
   "outputs": [],
   "source": [
    "img_size1 = 4\n",
    "img_size2 = 1\n",
    "num_channels = 1\n",
    "latent_space_dim =24\n",
    "num_category=3"
   ]
  },
  {
   "cell_type": "code",
   "execution_count": 25,
   "id": "acdd9e6e",
   "metadata": {},
   "outputs": [
    {
     "name": "stdout",
     "output_type": "stream",
     "text": [
      "Model: \"sequential_3\"\n",
      "_________________________________________________________________\n",
      "Layer (type)                 Output Shape              Param #   \n",
      "=================================================================\n",
      "lstm_12 (LSTM)               (None, 4, 32)             4352      \n",
      "_________________________________________________________________\n",
      "max_pooling1d_9 (MaxPooling1 (None, 2, 32)             0         \n",
      "_________________________________________________________________\n",
      "lstm_13 (LSTM)               (None, 2, 64)             24832     \n",
      "_________________________________________________________________\n",
      "max_pooling1d_10 (MaxPooling (None, 1, 64)             0         \n",
      "_________________________________________________________________\n",
      "lstm_14 (LSTM)               (None, 1, 64)             33024     \n",
      "_________________________________________________________________\n",
      "max_pooling1d_11 (MaxPooling (None, 1, 64)             0         \n",
      "_________________________________________________________________\n",
      "lstm_15 (LSTM)               (None, 64)                33024     \n",
      "_________________________________________________________________\n",
      "dropout_1 (Dropout)          (None, 64)                0         \n",
      "_________________________________________________________________\n",
      "feature_extraction (Dense)   (None, 24)                1560      \n",
      "_________________________________________________________________\n",
      "dense_1 (Dense)              (None, 3)                 75        \n",
      "=================================================================\n",
      "Total params: 96,867\n",
      "Trainable params: 96,867\n",
      "Non-trainable params: 0\n",
      "_________________________________________________________________\n"
     ]
    }
   ],
   "source": [
    "# RNN\n",
    "model_rnn = Sequential()\n",
    "model_rnn.add(LSTM(units=32, input_shape=(img_size1, img_size2), return_sequences=True))\n",
    "model_rnn.add(MaxPooling1D(2))\n",
    "model_rnn.add(LSTM(units=64, return_sequences=True))\n",
    "model_rnn.add(MaxPooling1D(2))\n",
    "model_rnn.add(LSTM(units=64, return_sequences=True))\n",
    "model_rnn.add(MaxPooling1D(1))\n",
    "model_rnn.add(LSTM(units=64))\n",
    "model_rnn.add(Dropout(0.2))\n",
    "model_rnn.add(Dense(latent_space_dim, name='feature_extraction'))\n",
    "model_rnn.add(Dense(num_category, activation='softmax'))\n",
    "model_rnn.compile(loss='categorical_crossentropy', optimizer=tensorflow.keras.optimizers.Adam(learning_rate=0.001), metrics=['accuracy'])\n",
    "model_rnn.summary()"
   ]
  },
  {
   "cell_type": "code",
   "execution_count": 26,
   "id": "47c2b7cb",
   "metadata": {},
   "outputs": [
    {
     "data": {
      "text/plain": [
       "(520873, 4)"
      ]
     },
     "execution_count": 26,
     "metadata": {},
     "output_type": "execute_result"
    }
   ],
   "source": [
    "##########################################   préparation des données #######################################\n",
    "datasetf2001 = pd.read_csv('D:/etm data/GoogleEarthEngine/Landsat_07/dataset_2001_2004/insitu_MH_2001.csv')\n",
    "data2001=np.array(datasetf2001.iloc[:, 2:6])\n",
    "datay=np.array(datasetf2001.iloc[:, 6:7])\n",
    "x_train2001, x_test2001 = train_test_split(data2001, test_size = 0.3, random_state = 0)\n",
    "y_train, y_test = train_test_split(datay, test_size = 0.3, random_state = 0)\n",
    "x_train2001 = numpy.reshape(x_train2001, newshape=( x_train2001.shape[0], x_train2001.shape[1],1))\n",
    "x_test2001 = numpy.reshape(x_test2001, newshape=( x_test2001.shape[0], x_test2001.shape[1],1))\n",
    "y_train = tf.keras.utils.to_categorical(y_train, num_classes=3)\n",
    "y_test = tf.keras.utils.to_categorical(y_test, num_classes=3)\n",
    "data2001.shape"
   ]
  },
  {
   "cell_type": "code",
   "execution_count": 27,
   "id": "b355c2b8",
   "metadata": {},
   "outputs": [
    {
     "data": {
      "text/plain": [
       "(520873, 4)"
      ]
     },
     "execution_count": 27,
     "metadata": {},
     "output_type": "execute_result"
    }
   ],
   "source": [
    "##########################################   préparation des données #######################################\n",
    "datasetf2004 = pd.read_csv('D:/etm data/GoogleEarthEngine/Landsat_07/dataset_2001_2004/insitu_MH_2004.csv')\n",
    "data2004=np.array(datasetf2004.iloc[:, 2:6])\n",
    "x_train2004, x_test2004 = train_test_split(data2004, test_size = 0.3, random_state = 0)\n",
    "x_train2004 = numpy.reshape(x_train2004, newshape=(x_train2004.shape[0], x_train2004.shape[1],1))\n",
    "x_test2004 = numpy.reshape(x_test2004, newshape=( x_test2004.shape[0], x_test2004.shape[1],1))\n",
    "data2004.shape"
   ]
  },
  {
   "cell_type": "code",
   "execution_count": 28,
   "id": "509e0cde",
   "metadata": {},
   "outputs": [
    {
     "name": "stdout",
     "output_type": "stream",
     "text": [
      "Epoch 1/1000\n",
      "1425/1425 [==============================] - 43s 13ms/step - loss: 0.6694 - accuracy: 0.6715\n",
      "Epoch 2/1000\n",
      "1425/1425 [==============================] - 19s 14ms/step - loss: 0.3281 - accuracy: 0.8529\n",
      "Epoch 3/1000\n",
      "1425/1425 [==============================] - 19s 13ms/step - loss: 0.2953 - accuracy: 0.8680\n",
      "Epoch 4/1000\n",
      "1425/1425 [==============================] - 19s 13ms/step - loss: 0.2840 - accuracy: 0.8734\n",
      "Epoch 5/1000\n",
      "1425/1425 [==============================] - 19s 13ms/step - loss: 0.2571 - accuracy: 0.8875\n",
      "Epoch 6/1000\n",
      "1425/1425 [==============================] - 20s 14ms/step - loss: 0.2145 - accuracy: 0.9080\n",
      "Epoch 7/1000\n",
      "1425/1425 [==============================] - 20s 14ms/step - loss: 0.2094 - accuracy: 0.9103\n",
      "Epoch 8/1000\n",
      "1425/1425 [==============================] - 19s 14ms/step - loss: 0.2055 - accuracy: 0.9106\n",
      "Epoch 9/1000\n",
      "1425/1425 [==============================] - 19s 14ms/step - loss: 0.2045 - accuracy: 0.9115\n",
      "Epoch 10/1000\n",
      "1425/1425 [==============================] - 20s 14ms/step - loss: 0.2017 - accuracy: 0.9123\n",
      "Epoch 11/1000\n",
      "1425/1425 [==============================] - 20s 14ms/step - loss: 0.2008 - accuracy: 0.9128\n",
      "Epoch 12/1000\n",
      "1425/1425 [==============================] - 19s 14ms/step - loss: 0.1988 - accuracy: 0.9140\n",
      "Epoch 13/1000\n",
      "1425/1425 [==============================] - 19s 14ms/step - loss: 0.1976 - accuracy: 0.9141\n",
      "Epoch 14/1000\n",
      "1425/1425 [==============================] - 20s 14ms/step - loss: 0.1952 - accuracy: 0.9152\n",
      "Epoch 15/1000\n",
      "1425/1425 [==============================] - 20s 14ms/step - loss: 0.1942 - accuracy: 0.9157\n",
      "Epoch 16/1000\n",
      "1425/1425 [==============================] - 20s 14ms/step - loss: 0.1936 - accuracy: 0.9159\n",
      "Epoch 17/1000\n",
      "1425/1425 [==============================] - 20s 14ms/step - loss: 0.1920 - accuracy: 0.9167\n",
      "Epoch 18/1000\n",
      "1425/1425 [==============================] - 17s 12ms/step - loss: 0.1929 - accuracy: 0.9163\n",
      "Epoch 19/1000\n",
      "1425/1425 [==============================] - 20s 14ms/step - loss: 0.1891 - accuracy: 0.9177\n",
      "Epoch 20/1000\n",
      "1425/1425 [==============================] - 22s 15ms/step - loss: 0.1901 - accuracy: 0.9175\n",
      "Epoch 21/1000\n",
      "1425/1425 [==============================] - 22s 15ms/step - loss: 0.1899 - accuracy: 0.9177\n",
      "Epoch 22/1000\n",
      "1425/1425 [==============================] - 21s 15ms/step - loss: 0.1902 - accuracy: 0.9179\n",
      "Epoch 23/1000\n",
      "1425/1425 [==============================] - 16s 11ms/step - loss: 0.1885 - accuracy: 0.9184\n",
      "Epoch 24/1000\n",
      "1425/1425 [==============================] - 15s 10ms/step - loss: 0.1876 - accuracy: 0.9188\n",
      "Epoch 25/1000\n",
      "1425/1425 [==============================] - 21s 15ms/step - loss: 0.1852 - accuracy: 0.9197\n",
      "Epoch 26/1000\n",
      "1425/1425 [==============================] - 21s 15ms/step - loss: 0.1851 - accuracy: 0.9200\n",
      "Epoch 27/1000\n",
      "1425/1425 [==============================] - 21s 15ms/step - loss: 0.1856 - accuracy: 0.9197\n",
      "Epoch 28/1000\n",
      "1425/1425 [==============================] - 21s 15ms/step - loss: 0.1860 - accuracy: 0.9194\n",
      "Epoch 29/1000\n",
      "1425/1425 [==============================] - 21s 15ms/step - loss: 0.1847 - accuracy: 0.9198\n",
      "Epoch 30/1000\n",
      "1425/1425 [==============================] - 22s 15ms/step - loss: 0.1813 - accuracy: 0.9216\n",
      "Epoch 31/1000\n",
      "1425/1425 [==============================] - 22s 15ms/step - loss: 0.1831 - accuracy: 0.9203\n",
      "Epoch 32/1000\n",
      "1425/1425 [==============================] - 21s 15ms/step - loss: 0.1821 - accuracy: 0.9215\n",
      "Epoch 33/1000\n",
      "1425/1425 [==============================] - 21s 15ms/step - loss: 0.1840 - accuracy: 0.9203\n",
      "Epoch 34/1000\n",
      "1425/1425 [==============================] - 22s 15ms/step - loss: 0.1832 - accuracy: 0.9204\n",
      "Epoch 35/1000\n",
      "1425/1425 [==============================] - 21s 15ms/step - loss: 0.1815 - accuracy: 0.9215\n",
      "Epoch 00035: early stopping\n"
     ]
    }
   ],
   "source": [
    "es = EarlyStopping(monitor='accuracy', mode='max', verbose=1, patience=5)\n",
    "hist=model_rnn.fit(x_train2001, y_train, epochs=1000, batch_size=256,callbacks=[es])"
   ]
  },
  {
   "cell_type": "code",
   "execution_count": 29,
   "id": "fcae01d1",
   "metadata": {},
   "outputs": [
    {
     "name": "stdout",
     "output_type": "stream",
     "text": [
      "lstm_12_input False\n",
      "lstm_12 False\n",
      "max_pooling1d_9 False\n",
      "lstm_13 False\n",
      "max_pooling1d_10 False\n",
      "lstm_14 False\n",
      "max_pooling1d_11 False\n",
      "lstm_15 False\n",
      "dropout_1 False\n",
      "feature_extraction False\n"
     ]
    }
   ],
   "source": [
    "feature_extraction = Model(inputs=model_rnn.input,outputs=model_rnn.get_layer('feature_extraction').output)\n",
    "weights = feature_extraction.get_weights()\n",
    "for l in feature_extraction.layers:\n",
    "    l.trainable = False\n",
    "    print(l.name, l.trainable)\n",
    "# re-compile the model\n",
    "feature_extraction.compile(loss='categorical_crossentropy', optimizer=tensorflow.keras.optimizers.Adam(learning_rate=0.001), metrics=['accuracy'])"
   ]
  },
  {
   "cell_type": "code",
   "execution_count": 30,
   "id": "289860b8",
   "metadata": {},
   "outputs": [
    {
     "name": "stdout",
     "output_type": "stream",
     "text": [
      "Model: \"model_1\"\n",
      "__________________________________________________________________________________________________\n",
      "Layer (type)                    Output Shape         Param #     Connected to                     \n",
      "==================================================================================================\n",
      "s_input1 (InputLayer)           [(None, 4, 1)]       0                                            \n",
      "__________________________________________________________________________________________________\n",
      "s_input2 (InputLayer)           [(None, 4, 1)]       0                                            \n",
      "__________________________________________________________________________________________________\n",
      "model (Functional)              (None, 24)           96792       s_input1[0][0]                   \n",
      "                                                                 s_input2[0][0]                   \n",
      "__________________________________________________________________________________________________\n",
      "concatenate (Concatenate)       (None, 48)           0           model[0][0]                      \n",
      "                                                                 model[1][0]                      \n",
      "__________________________________________________________________________________________________\n",
      "classifier (Dense)              (None, 3)            147         concatenate[0][0]                \n",
      "==================================================================================================\n",
      "Total params: 96,939\n",
      "Trainable params: 147\n",
      "Non-trainable params: 96,792\n",
      "__________________________________________________________________________________________________\n"
     ]
    }
   ],
   "source": [
    "rnn_in_1 = tensorflow.keras.layers.Input(shape=(img_size1, img_size2), name=\"s_input1\")\n",
    "rnn_in_2 = tensorflow.keras.layers.Input(shape=(img_size1, img_size2), name=\"s_input2\")\n",
    "concatted = tf.keras.layers.Concatenate()([feature_extraction(rnn_in_1), feature_extraction(rnn_in_2)])\n",
    "prediction = Dense(num_category, activation='softmax', name=\"classifier\")(concatted)\n",
    "Siamese_rnn=Model(inputs=[rnn_in_1,rnn_in_2],outputs=prediction)\n",
    "Siamese_rnn.compile(optimizer=tensorflow.keras.optimizers.Adam(learning_rate=0.001), loss='categorical_crossentropy', metrics=['accuracy'])\n",
    "Siamese_rnn.summary()"
   ]
  },
  {
   "cell_type": "code",
   "execution_count": 31,
   "id": "1e5db6e5",
   "metadata": {},
   "outputs": [
    {
     "name": "stdout",
     "output_type": "stream",
     "text": [
      "Epoch 1/1000\n",
      "1425/1425 [==============================] - 47s 7ms/step - loss: 0.1386 - accuracy: 0.9484\n",
      "Epoch 2/1000\n",
      "1425/1425 [==============================] - 10s 7ms/step - loss: 0.1052 - accuracy: 0.9583\n",
      "Epoch 3/1000\n",
      "1425/1425 [==============================] - 10s 7ms/step - loss: 0.1013 - accuracy: 0.9596\n",
      "Epoch 4/1000\n",
      "1425/1425 [==============================] - 8s 6ms/step - loss: 0.0996 - accuracy: 0.9605\n",
      "Epoch 5/1000\n",
      "1425/1425 [==============================] - 9s 6ms/step - loss: 0.0988 - accuracy: 0.9607\n",
      "Epoch 6/1000\n",
      "1425/1425 [==============================] - 8s 5ms/step - loss: 0.0977 - accuracy: 0.9611\n",
      "Epoch 7/1000\n",
      "1425/1425 [==============================] - 9s 6ms/step - loss: 0.0974 - accuracy: 0.9614\n",
      "Epoch 8/1000\n",
      "1425/1425 [==============================] - 8s 6ms/step - loss: 0.0966 - accuracy: 0.9618\n",
      "Epoch 9/1000\n",
      "1425/1425 [==============================] - 8s 6ms/step - loss: 0.0964 - accuracy: 0.9617\n",
      "Epoch 10/1000\n",
      "1425/1425 [==============================] - 8s 6ms/step - loss: 0.0967 - accuracy: 0.9621\n",
      "Epoch 11/1000\n",
      "1425/1425 [==============================] - 8s 5ms/step - loss: 0.0962 - accuracy: 0.9620\n",
      "Epoch 12/1000\n",
      "1425/1425 [==============================] - 8s 5ms/step - loss: 0.0962 - accuracy: 0.9620\n",
      "Epoch 13/1000\n",
      "1425/1425 [==============================] - 8s 6ms/step - loss: 0.0963 - accuracy: 0.9621: 0s - loss: 0.0963 - ac\n",
      "Epoch 14/1000\n",
      "1425/1425 [==============================] - 8s 5ms/step - loss: 0.0954 - accuracy: 0.9625\n",
      "Epoch 15/1000\n",
      "1425/1425 [==============================] - 8s 6ms/step - loss: 0.0953 - accuracy: 0.9623\n",
      "Epoch 16/1000\n",
      "1425/1425 [==============================] - 8s 5ms/step - loss: 0.0955 - accuracy: 0.9621\n",
      "Epoch 17/1000\n",
      "1425/1425 [==============================] - 8s 6ms/step - loss: 0.0960 - accuracy: 0.9618\n",
      "Epoch 18/1000\n",
      "1425/1425 [==============================] - 8s 5ms/step - loss: 0.0950 - accuracy: 0.9625\n",
      "Epoch 19/1000\n",
      "1425/1425 [==============================] - 8s 6ms/step - loss: 0.0953 - accuracy: 0.9621\n",
      "Epoch 20/1000\n",
      "1425/1425 [==============================] - 8s 6ms/step - loss: 0.0954 - accuracy: 0.9623\n",
      "Epoch 21/1000\n",
      "1425/1425 [==============================] - 8s 6ms/step - loss: 0.0949 - accuracy: 0.9628\n",
      "Epoch 22/1000\n",
      "1425/1425 [==============================] - 7s 5ms/step - loss: 0.0946 - accuracy: 0.9626\n",
      "Epoch 23/1000\n",
      "1425/1425 [==============================] - 8s 6ms/step - loss: 0.0955 - accuracy: 0.9620\n",
      "Epoch 24/1000\n",
      "1425/1425 [==============================] - 8s 5ms/step - loss: 0.0945 - accuracy: 0.9628: 0s - loss: 0.0945 - accuracy: 0.96\n",
      "Epoch 25/1000\n",
      "1425/1425 [==============================] - 8s 6ms/step - loss: 0.0949 - accuracy: 0.9625\n",
      "Epoch 26/1000\n",
      "1425/1425 [==============================] - 7s 5ms/step - loss: 0.0948 - accuracy: 0.9626\n",
      "Epoch 27/1000\n",
      "1425/1425 [==============================] - 8s 5ms/step - loss: 0.0951 - accuracy: 0.9628\n",
      "Epoch 28/1000\n",
      "1425/1425 [==============================] - 8s 5ms/step - loss: 0.0946 - accuracy: 0.9628\n",
      "Epoch 29/1000\n",
      "1425/1425 [==============================] - 8s 6ms/step - loss: 0.0949 - accuracy: 0.9626\n",
      "Epoch 30/1000\n",
      "1425/1425 [==============================] - 8s 5ms/step - loss: 0.0950 - accuracy: 0.9624\n",
      "Epoch 31/1000\n",
      "1425/1425 [==============================] - 8s 6ms/step - loss: 0.0946 - accuracy: 0.9626: 0s - loss: 0.0945 - accuracy\n",
      "Epoch 32/1000\n",
      "1425/1425 [==============================] - 8s 6ms/step - loss: 0.0949 - accuracy: 0.9625\n",
      "Epoch 33/1000\n",
      "1425/1425 [==============================] - 8s 6ms/step - loss: 0.0947 - accuracy: 0.9625\n",
      "Epoch 34/1000\n",
      "1425/1425 [==============================] - 8s 5ms/step - loss: 0.0946 - accuracy: 0.9626\n",
      "Epoch 00034: early stopping\n",
      "--- 313.7983717918396 seconds ---\n"
     ]
    }
   ],
   "source": [
    "##########################################   Siamese RNN Training #######################################\n",
    "import time\n",
    "start_time = time.time()\n",
    "ces = EarlyStopping(monitor='accuracy', mode='max', verbose=1, patience=10)\n",
    "history=Siamese_rnn.fit([x_train2001,x_train2004],y_train,batch_size=256,epochs=1000,callbacks=[ces]) \n",
    "print(\"--- %s seconds ---\" % (time.time() - start_time))"
   ]
  },
  {
   "cell_type": "code",
   "execution_count": 32,
   "id": "74fabb6f",
   "metadata": {},
   "outputs": [
    {
     "name": "stdout",
     "output_type": "stream",
     "text": [
      "dict_keys(['loss', 'accuracy'])\n"
     ]
    },
    {
     "data": {
      "image/png": "[encoded data removed]",
      "text/plain": [
       "<Figure size 432x288 with 1 Axes>"
      ]
     },
     "metadata": {
      "needs_background": "light"
     },
     "output_type": "display_data"
    },
    {
     "data": {
      "image/png": "[encoded data removed]",
      "text/plain": [
       "<Figure size 432x288 with 1 Axes>"
      ]
     },
     "metadata": {
      "needs_background": "light"
     },
     "output_type": "display_data"
    }
   ],
   "source": [
    "# list all data in history\n",
    "print(history.history.keys())\n",
    "# summarize history for accuracy\n",
    "plt.plot(history.history['accuracy'])\n",
    "plt.plot(history.history['accuracy'])\n",
    "plt.title('model accuracy')\n",
    "plt.ylabel('accuracy')\n",
    "plt.xlabel('epoch')\n",
    "plt.legend(['train', 'test'], loc='upper right')\n",
    "plt.show()\n",
    "# summarize history for loss\n",
    "plt.plot(history.history['loss'])\n",
    "plt.plot(history.history['loss'])\n",
    "plt.title('model loss')\n",
    "plt.ylabel('loss')\n",
    "plt.xlabel('epoch')\n",
    "plt.legend(['train', 'test'], loc='upper right')\n",
    "plt.show()"
   ]
  },
  {
   "cell_type": "code",
   "execution_count": 33,
   "id": "0688ff49",
   "metadata": {},
   "outputs": [],
   "source": [
    "data2001 = numpy.reshape(data2001, newshape=(data2001.shape[0], data2001.shape[1],1,1))\n",
    "data2004 = numpy.reshape(data2004, newshape=(data2004.shape[0], data2004.shape[1],1,1))\n",
    "Y_pred=Siamese_rnn.predict([data2001,data2004])\n",
    "datasetvae2001_class = pd.DataFrame(datasetf2001['x'])\n",
    "datasetvae2004_class = pd.DataFrame(datasetf2001['x'])\n",
    "datasetvae2001_class['y'] = pd.DataFrame(datasetf2001['y'],columns=['y'])\n",
    "datasetvae2004_class['y'] = pd.DataFrame(datasetf2001['y'],columns=['y'])\n",
    "datasetvae2001_class['f1'] = pd.DataFrame(datasetf2001['f1'])\n",
    "datasetvae2001_class['f2'] = pd.DataFrame(datasetf2001['f2'])\n",
    "datasetvae2001_class['f3'] = pd.DataFrame(datasetf2001['f3'])\n",
    "datasetvae2001_class['f4'] = pd.DataFrame(datasetf2001['f4'])\n",
    "datasetvae2004_class['f1'] = pd.DataFrame(datasetf2004['f1'])\n",
    "datasetvae2004_class['f2'] = pd.DataFrame(datasetf2004['f2'])\n",
    "datasetvae2004_class['f3'] = pd.DataFrame(datasetf2004['f3'])\n",
    "datasetvae2004_class['f4'] = pd.DataFrame(datasetf2004['f4'])\n",
    "datasetvae2001_class['class'] = datay\n",
    "datasetvae2001_class['pred'] = np.argmax(Y_pred, axis=1)\n",
    "datasetvae2001_class.to_csv(r'D:/etm data/GoogleEarthEngine/Landsat_07/dataset_2001_2004/y_pred_insitu_MH_2001_rnn.csv')\n",
    "datasetvae2004_class['class'] = datay\n",
    "datasetvae2004_class['pred'] = np.argmax(Y_pred, axis=1)\n",
    "datasetvae2004_class.to_csv(r'D:/etm data/GoogleEarthEngine/Landsat_07/dataset_2001_2004/y_pred_insitu_MH_2004_rnn.csv')"
   ]
  },
  {
   "cell_type": "code",
   "execution_count": 34,
   "id": "63b9f6ca",
   "metadata": {},
   "outputs": [],
   "source": [
    "mse = sklearn.metrics.mean_squared_error(datay, np.argmax(Y_pred, axis=1))\n",
    "rmse = math.sqrt(mse)\n",
    "r2=sklearn.metrics.r2_score(datay, np.argmax(Y_pred, axis=1))\n",
    "precision_sc=sklearn.metrics.precision_score(datay, np.argmax(Y_pred, axis=1), average='macro')\n",
    "f1_sc=sklearn.metrics.f1_score(datay, np.argmax(Y_pred, axis=1), average='macro')\n",
    "confusion_mat=sklearn.metrics.confusion_matrix(datay, np.argmax(Y_pred, axis=1))\n",
    "fpr, tpr, thresholds = sklearn.metrics.roc_curve(datay, np.argmax(Y_pred, axis=1), pos_label=2)\n",
    "auc=sklearn.metrics.auc(fpr, tpr)\n",
    "from sklearn.metrics import recall_score\n",
    "recall_score=recall_score(datay, np.argmax(Y_pred, axis=1), average=None)"
   ]
  },
  {
   "cell_type": "code",
   "execution_count": 35,
   "id": "465b76cb",
   "metadata": {},
   "outputs": [
    {
     "data": {
      "text/plain": [
       "array([0.96608803, 0.96684923, 0.96848116])"
      ]
     },
     "execution_count": 35,
     "metadata": {},
     "output_type": "execute_result"
    }
   ],
   "source": [
    "recall_score"
   ]
  },
  {
   "cell_type": "code",
   "execution_count": 36,
   "id": "e0ccd514",
   "metadata": {},
   "outputs": [
    {
     "data": {
      "text/plain": [
       "0.10294831945599023"
      ]
     },
     "execution_count": 36,
     "metadata": {},
     "output_type": "execute_result"
    }
   ],
   "source": [
    "mse"
   ]
  },
  {
   "cell_type": "code",
   "execution_count": 37,
   "id": "39aab357",
   "metadata": {},
   "outputs": [
    {
     "data": {
      "text/plain": [
       "0.32085560530554896"
      ]
     },
     "execution_count": 37,
     "metadata": {},
     "output_type": "execute_result"
    }
   ],
   "source": [
    "rmse"
   ]
  },
  {
   "cell_type": "code",
   "execution_count": 38,
   "id": "b4a8d040",
   "metadata": {},
   "outputs": [
    {
     "data": {
      "text/plain": [
       "0.8807882025522469"
      ]
     },
     "execution_count": 38,
     "metadata": {},
     "output_type": "execute_result"
    }
   ],
   "source": [
    "r2"
   ]
  },
  {
   "cell_type": "code",
   "execution_count": 39,
   "id": "a4346c06",
   "metadata": {},
   "outputs": [
    {
     "data": {
      "text/plain": [
       "0.9659928417194275"
      ]
     },
     "execution_count": 39,
     "metadata": {},
     "output_type": "execute_result"
    }
   ],
   "source": [
    "precision_sc"
   ]
  },
  {
   "cell_type": "code",
   "execution_count": 40,
   "id": "5cad6fa2",
   "metadata": {},
   "outputs": [
    {
     "data": {
      "text/plain": [
       "0.9665572363524518"
      ]
     },
     "execution_count": 40,
     "metadata": {},
     "output_type": "execute_result"
    }
   ],
   "source": [
    "f1_sc"
   ]
  },
  {
   "cell_type": "code",
   "execution_count": 41,
   "id": "e23bd5c1",
   "metadata": {},
   "outputs": [
    {
     "data": {
      "text/plain": [
       "array([0.        , 0.03367965, 0.2715579 , 1.        ])"
      ]
     },
     "execution_count": 41,
     "metadata": {},
     "output_type": "execute_result"
    }
   ],
   "source": [
    "fpr"
   ]
  },
  {
   "cell_type": "code",
   "execution_count": 42,
   "id": "42e03643",
   "metadata": {},
   "outputs": [
    {
     "data": {
      "text/plain": [
       "array([0.        , 0.96848116, 0.97880142, 1.        ])"
      ]
     },
     "execution_count": 42,
     "metadata": {},
     "output_type": "execute_result"
    }
   ],
   "source": [
    "tpr"
   ]
  },
  {
   "cell_type": "code",
   "execution_count": 43,
   "id": "25ba04f6",
   "metadata": {},
   "outputs": [
    {
     "data": {
      "text/plain": [
       "0.968638269741318"
      ]
     },
     "execution_count": 43,
     "metadata": {},
     "output_type": "execute_result"
    }
   ],
   "source": [
    "auc"
   ]
  },
  {
   "cell_type": "code",
   "execution_count": 44,
   "id": "6fb87f6d",
   "metadata": {},
   "outputs": [
    {
     "data": {
      "text/plain": [
       "96.73528864041715"
      ]
     },
     "execution_count": 44,
     "metadata": {},
     "output_type": "execute_result"
    }
   ],
   "source": [
    "from sklearn.metrics import accuracy_score\n",
    "accuracy=sklearn.metrics.accuracy_score(datay, np.argmax(Y_pred, axis=1))\n",
    "accuracy*100"
   ]
  },
  {
   "cell_type": "code",
   "execution_count": 45,
   "id": "e00c649e",
   "metadata": {},
   "outputs": [
    {
     "data": {
      "image/png": "[encoded data removed]",
      "text/plain": [
       "<Figure size 432x288 with 1 Axes>"
      ]
     },
     "metadata": {
      "needs_background": "light"
     },
     "output_type": "display_data"
    }
   ],
   "source": [
    "from sklearn.metrics import RocCurveDisplay\n",
    "roc_display = RocCurveDisplay(fpr=fpr, tpr=tpr).plot()"
   ]
  },
  {
   "cell_type": "code",
   "execution_count": 46,
   "id": "1feff238",
   "metadata": {},
   "outputs": [
    {
     "data": {
      "text/plain": [
       "<AxesSubplot:>"
      ]
     },
     "execution_count": 46,
     "metadata": {},
     "output_type": "execute_result"
    },
    {
     "data": {
      "image/png": "[encoded data removed]",
      "text/plain": [
       "<Figure size 360x360 with 2 Axes>"
      ]
     },
     "metadata": {
      "needs_background": "light"
     },
     "output_type": "display_data"
    }
   ],
   "source": [
    "import seaborn as sn\n",
    "df_cm = pd.DataFrame(confusion_mat, index = [\"0.low\",\"1.high\",\"2.very high\"],columns = [\"0.low\",\"1.high\",\"2.very high\"])\n",
    "plt.figure(figsize = (5,5))\n",
    "sn.heatmap(df_cm, annot=True, fmt=\"d\",cmap=\"YlGnBu\")"
   ]
  },
  {
   "cell_type": "code",
   "execution_count": null,
   "id": "3af4e4e9",
   "metadata": {},
   "outputs": [],
   "source": []
  }
 ],
 "metadata": {
  "kernelspec": {
   "display_name": "Python 3",
   "language": "python",
   "name": "python3"
  },
  "language_info": {
   "codemirror_mode": {
    "name": "ipython",
    "version": 3
   },
   "file_extension": ".py",
   "mimetype": "text/x-python",
   "name": "python",
   "nbconvert_exporter": "python",
   "pygments_lexer": "ipython3",
   "version": "3.6.15"
  }
 },
 "nbformat": 4,
 "nbformat_minor": 5
}
