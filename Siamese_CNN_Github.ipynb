{
 "cells": [
  {
   "cell_type": "code",
   "execution_count": 1,
   "id": "eae91987",
   "metadata": {
    "scrolled": false
   },
   "outputs": [],
   "source": [
    "import tensorflow as tf\n",
    "import tensorflow\n",
    "import sklearn\n",
    "import math\n",
    "import keras\n",
    "import numpy\n",
    "import pandas\n",
    "import os\n",
    "import time\n",
    "import csv\n",
    "import pandas as pd\n",
    "import numpy as np\n",
    "import matplotlib.pyplot as plt\n",
    "from IPython import display\n",
    "import matplotlib.image as mpimg\n",
    "from keras.utils import np_utils\n",
    "import matplotlib.pyplot\n",
    "from keras.models import Sequential,Model\n",
    "from keras.losses import mse,sparse_categorical_crossentropy\n",
    "from keras.layers import Dense, Conv2D, Conv1D, Conv3D, Flatten,Activation,MaxPool1D,MaxPooling1D,Dropout,LSTM,MaxPool2D,MaxPooling2D\n",
    "from sklearn.model_selection import train_test_split\n",
    "from sklearn.metrics import mean_squared_error\n",
    "from sklearn.preprocessing import StandardScaler\n",
    "from keras.layers import Lambda, Input, Dense\n",
    "from keras.callbacks import EarlyStopping,ModelCheckpoint,TensorBoard"
   ]
  },
  {
   "cell_type": "code",
   "execution_count": 2,
   "id": "ff4164e8",
   "metadata": {},
   "outputs": [],
   "source": [
    "img_size1 = 4\n",
    "img_size2 = 1\n",
    "num_channels = 1\n",
    "latent_space_dim =24\n",
    "num_category=3"
   ]
  },
  {
   "cell_type": "code",
   "execution_count": 3,
   "id": "d6c45c02",
   "metadata": {},
   "outputs": [
    {
     "name": "stdout",
     "output_type": "stream",
     "text": [
      "Model: \"sequential\"\n",
      "_________________________________________________________________\n",
      "Layer (type)                 Output Shape              Param #   \n",
      "=================================================================\n",
      "encoder_conv_2 (Conv2D)      (None, 4, 1, 32)          320       \n",
      "_________________________________________________________________\n",
      "max_pooling2d (MaxPooling2D) (None, 2, 1, 32)          0         \n",
      "_________________________________________________________________\n",
      "conv2d (Conv2D)              (None, 2, 1, 64)          18496     \n",
      "_________________________________________________________________\n",
      "max_pooling2d_1 (MaxPooling2 (None, 1, 1, 64)          0         \n",
      "_________________________________________________________________\n",
      "conv2d_1 (Conv2D)            (None, 1, 1, 64)          36928     \n",
      "_________________________________________________________________\n",
      "max_pooling2d_2 (MaxPooling2 (None, 1, 1, 64)          0         \n",
      "_________________________________________________________________\n",
      "conv2d_2 (Conv2D)            (None, 1, 1, 64)          36928     \n",
      "_________________________________________________________________\n",
      "flatten (Flatten)            (None, 64)                0         \n",
      "_________________________________________________________________\n",
      "feature_extraction (Dense)   (None, 24)                1560      \n",
      "_________________________________________________________________\n",
      "dropout (Dropout)            (None, 24)                0         \n",
      "_________________________________________________________________\n",
      "dense (Dense)                (None, 3)                 75        \n",
      "=================================================================\n",
      "Total params: 94,307\n",
      "Trainable params: 94,307\n",
      "Non-trainable params: 0\n",
      "_________________________________________________________________\n"
     ]
    }
   ],
   "source": [
    "#model building\n",
    "cnn_model = Sequential()\n",
    "#convolutional layer with rectified linear unit activation\n",
    "cnn_model.add(Conv2D(filters=32, kernel_size=(3,3), padding=\"same\", strides=1, name=\"encoder_conv_2\",input_shape=(img_size1, img_size2, num_channels)))\n",
    "cnn_model.add(MaxPooling2D(pool_size=(2, 1)))\n",
    "cnn_model.add(Conv2D(64, (3, 3), activation='relu',padding=\"same\", strides=1))\n",
    "cnn_model.add(MaxPooling2D(pool_size=(2, 1)))\n",
    "cnn_model.add(Conv2D(64, (3, 3), activation='relu',padding=\"same\", strides=2))\n",
    "cnn_model.add(MaxPooling2D(pool_size=(1, 1)))\n",
    "cnn_model.add(Conv2D(64, (3, 3), activation='relu',padding=\"same\", strides=1))\n",
    "#flatten since too many dimensions, we only want a classification output\n",
    "cnn_model.add(Flatten())\n",
    "#fully connected to get all relevant data\n",
    "cnn_model.add(Dense(latent_space_dim, activation='relu',name='feature_extraction'))\n",
    "#randomly turn neurons on and off to improve convergence\n",
    "cnn_model.add(Dropout(0.5))\n",
    "#output a softmax to squash the matrix into output probabilities\n",
    "cnn_model.add(Dense(num_category, activation='softmax'))\n",
    "# Run the model\n",
    "cnn_model.compile(loss='categorical_crossentropy', optimizer=tensorflow.keras.optimizers.Adam(learning_rate=0.001), metrics=['accuracy'])\n",
    "cnn_model.summary()\n",
    "# early stopping\n",
    "es = EarlyStopping(monitor='accuracy', mode='max', verbose=1, patience=5)"
   ]
  },
  {
   "cell_type": "code",
   "execution_count": 4,
   "id": "47c2b7cb",
   "metadata": {},
   "outputs": [
    {
     "data": {
      "text/plain": [
       "(520873, 4)"
      ]
     },
     "execution_count": 4,
     "metadata": {},
     "output_type": "execute_result"
    }
   ],
   "source": [
    "##########################################   préparation des données #######################################\n",
    "datasetf2001 = pd.read_csv('D:/etm data/GoogleEarthEngine/Landsat_07/dataset_2001_2004/insitu_MH_2001.csv')\n",
    "data2001=np.array(datasetf2001.iloc[:, 2:6])\n",
    "datay=np.array(datasetf2001.iloc[:, 6:7])\n",
    "x_train2001, x_test2001 = train_test_split(data2001, test_size = 0.3, random_state = 0)\n",
    "y_train, y_test = train_test_split(datay, test_size = 0.3, random_state = 0)\n",
    "x_train2001 = numpy.reshape(x_train2001, newshape=(x_train2001.shape[0], x_train2001.shape[1],1,1))\n",
    "x_test2001 = numpy.reshape(x_test2001, newshape=( x_test2001.shape[0], x_test2001.shape[1],1,1))\n",
    "y_train = tf.keras.utils.to_categorical(y_train, num_classes=3)\n",
    "y_test = tf.keras.utils.to_categorical(y_test, num_classes=3)\n",
    "data2001.shape"
   ]
  },
  {
   "cell_type": "code",
   "execution_count": 5,
   "id": "b355c2b8",
   "metadata": {},
   "outputs": [
    {
     "data": {
      "text/plain": [
       "(520873, 4)"
      ]
     },
     "execution_count": 5,
     "metadata": {},
     "output_type": "execute_result"
    }
   ],
   "source": [
    "##########################################   préparation des données #######################################\n",
    "datasetf2004 = pd.read_csv('D:/etm data/GoogleEarthEngine/Landsat_07/dataset_2001_2004/insitu_MH_2004.csv')\n",
    "data2004=np.array(datasetf2004.iloc[:, 2:6])\n",
    "x_train2004, x_test2004 = train_test_split(data2004, test_size = 0.3, random_state = 0)\n",
    "x_train2004 = numpy.reshape(x_train2004, newshape=(x_train2004.shape[0], x_train2004.shape[1],1))\n",
    "x_test2004 = numpy.reshape(x_test2004, newshape=( x_test2004.shape[0], x_test2004.shape[1],1))\n",
    "data2004.shape"
   ]
  },
  {
   "cell_type": "code",
   "execution_count": 6,
   "id": "509e0cde",
   "metadata": {},
   "outputs": [
    {
     "name": "stdout",
     "output_type": "stream",
     "text": [
      "Epoch 1/1000\n",
      "1425/1425 [==============================] - 9s 5ms/step - loss: 0.4695 - accuracy: 0.7852\n",
      "Epoch 2/1000\n",
      "1425/1425 [==============================] - 9s 6ms/step - loss: 0.2654 - accuracy: 0.8901\n",
      "Epoch 3/1000\n",
      "1425/1425 [==============================] - 8s 5ms/step - loss: 0.2500 - accuracy: 0.8958\n",
      "Epoch 4/1000\n",
      "1425/1425 [==============================] - 7s 5ms/step - loss: 0.2413 - accuracy: 0.8988\n",
      "Epoch 5/1000\n",
      "1425/1425 [==============================] - 7s 5ms/step - loss: 0.2488 - accuracy: 0.8960\n",
      "Epoch 6/1000\n",
      "1425/1425 [==============================] - 8s 5ms/step - loss: 0.2339 - accuracy: 0.9024\n",
      "Epoch 7/1000\n",
      "1425/1425 [==============================] - 7s 5ms/step - loss: 0.2365 - accuracy: 0.9015\n",
      "Epoch 8/1000\n",
      "1425/1425 [==============================] - 7s 5ms/step - loss: 0.2333 - accuracy: 0.9029\n",
      "Epoch 9/1000\n",
      "1425/1425 [==============================] - 8s 5ms/step - loss: 0.2282 - accuracy: 0.9045\n",
      "Epoch 10/1000\n",
      "1425/1425 [==============================] - 8s 6ms/step - loss: 0.2292 - accuracy: 0.9043: 1s - - ETA: 0s - loss: 0.2290 \n",
      "Epoch 11/1000\n",
      "1425/1425 [==============================] - 7s 5ms/step - loss: 0.2250 - accuracy: 0.9065\n",
      "Epoch 12/1000\n",
      "1425/1425 [==============================] - 8s 5ms/step - loss: 0.2257 - accuracy: 0.9057\n",
      "Epoch 13/1000\n",
      "1425/1425 [==============================] - 7s 5ms/step - loss: 0.2251 - accuracy: 0.9059\n",
      "Epoch 14/1000\n",
      "1425/1425 [==============================] - 8s 5ms/step - loss: 0.2250 - accuracy: 0.9066\n",
      "Epoch 15/1000\n",
      "1425/1425 [==============================] - 8s 5ms/step - loss: 0.2240 - accuracy: 0.9069\n",
      "Epoch 16/1000\n",
      "1425/1425 [==============================] - 8s 6ms/step - loss: 0.2159 - accuracy: 0.9093\n",
      "Epoch 17/1000\n",
      "1425/1425 [==============================] - 8s 5ms/step - loss: 0.2311 - accuracy: 0.9037\n",
      "Epoch 18/1000\n",
      "1425/1425 [==============================] - 8s 6ms/step - loss: 0.2137 - accuracy: 0.9102\n",
      "Epoch 19/1000\n",
      "1425/1425 [==============================] - 8s 6ms/step - loss: 0.2148 - accuracy: 0.9103\n",
      "Epoch 20/1000\n",
      "1425/1425 [==============================] - 9s 6ms/step - loss: 0.2172 - accuracy: 0.9101\n",
      "Epoch 21/1000\n",
      "1425/1425 [==============================] - 11s 7ms/step - loss: 0.2161 - accuracy: 0.9095\n",
      "Epoch 22/1000\n",
      "1425/1425 [==============================] - 11s 7ms/step - loss: 0.2194 - accuracy: 0.9086 0s - loss:\n",
      "Epoch 23/1000\n",
      "1425/1425 [==============================] - 10s 7ms/step - loss: 0.2157 - accuracy: 0.9099\n",
      "Epoch 24/1000\n",
      "1425/1425 [==============================] - 10s 7ms/step - loss: 0.2243 - accuracy: 0.9066\n",
      "Epoch 00024: early stopping\n"
     ]
    }
   ],
   "source": [
    "hist=cnn_model.fit(x_train2001, y_train, epochs=1000, batch_size=256,callbacks=[es])"
   ]
  },
  {
   "cell_type": "code",
   "execution_count": 7,
   "id": "3969cc67",
   "metadata": {},
   "outputs": [
    {
     "name": "stdout",
     "output_type": "stream",
     "text": [
      "encoder_conv_2_input False\n",
      "encoder_conv_2 False\n",
      "max_pooling2d False\n",
      "conv2d False\n",
      "max_pooling2d_1 False\n",
      "conv2d_1 False\n",
      "max_pooling2d_2 False\n",
      "conv2d_2 False\n",
      "flatten False\n",
      "feature_extraction False\n"
     ]
    }
   ],
   "source": [
    "feature_extraction = Model(inputs=cnn_model.input,outputs=cnn_model.get_layer('feature_extraction').output)\n",
    "weights = feature_extraction.get_weights()\n",
    "for l in feature_extraction.layers:\n",
    "    l.trainable = False\n",
    "    print(l.name, l.trainable)\n",
    "# re-compile the model\n",
    "feature_extraction.compile(loss='categorical_crossentropy', optimizer=tensorflow.keras.optimizers.Adam(learning_rate=0.001), metrics=['accuracy'])"
   ]
  },
  {
   "cell_type": "code",
   "execution_count": 8,
   "id": "289860b8",
   "metadata": {},
   "outputs": [
    {
     "name": "stdout",
     "output_type": "stream",
     "text": [
      "Model: \"model_1\"\n",
      "__________________________________________________________________________________________________\n",
      "Layer (type)                    Output Shape         Param #     Connected to                     \n",
      "==================================================================================================\n",
      "s_input1 (InputLayer)           [(None, 4, 1, 1)]    0                                            \n",
      "__________________________________________________________________________________________________\n",
      "s_input2 (InputLayer)           [(None, 4, 1, 1)]    0                                            \n",
      "__________________________________________________________________________________________________\n",
      "model (Functional)              (None, 24)           94232       s_input1[0][0]                   \n",
      "                                                                 s_input2[0][0]                   \n",
      "__________________________________________________________________________________________________\n",
      "concatenate (Concatenate)       (None, 48)           0           model[0][0]                      \n",
      "                                                                 model[1][0]                      \n",
      "__________________________________________________________________________________________________\n",
      "classifier (Dense)              (None, 3)            147         concatenate[0][0]                \n",
      "==================================================================================================\n",
      "Total params: 94,379\n",
      "Trainable params: 147\n",
      "Non-trainable params: 94,232\n",
      "__________________________________________________________________________________________________\n"
     ]
    }
   ],
   "source": [
    "cnn_in_1 = tensorflow.keras.layers.Input(shape=(img_size1, img_size2,1), name=\"s_input1\")\n",
    "cnn_in_2 = tensorflow.keras.layers.Input(shape=(img_size1, img_size2,1), name=\"s_input2\")\n",
    "concatted = tf.keras.layers.Concatenate()([feature_extraction(cnn_in_1), feature_extraction(cnn_in_2)])\n",
    "prediction = Dense(num_category, activation='softmax', name=\"classifier\")(concatted)\n",
    "Siamese_cnn=Model(inputs=[cnn_in_1,cnn_in_2],outputs=prediction)\n",
    "Siamese_cnn.compile(optimizer=tensorflow.keras.optimizers.Adam(learning_rate=0.001), loss='categorical_crossentropy', metrics=['accuracy'])\n",
    "Siamese_cnn.summary()"
   ]
  },
  {
   "cell_type": "code",
   "execution_count": 9,
   "id": "1e5db6e5",
   "metadata": {},
   "outputs": [
    {
     "name": "stdout",
     "output_type": "stream",
     "text": [
      "Epoch 1/1000\n",
      "1425/1425 [==============================] - 9s 4ms/step - loss: 0.1444 - accuracy: 0.9470\n",
      "Epoch 2/1000\n",
      "1425/1425 [==============================] - 5s 4ms/step - loss: 0.1186 - accuracy: 0.9540\n",
      "Epoch 3/1000\n",
      "1425/1425 [==============================] - 5s 3ms/step - loss: 0.1152 - accuracy: 0.9550\n",
      "Epoch 4/1000\n",
      "1425/1425 [==============================] - ETA: 0s - loss: 0.1134 - accuracy: 0.95 - 5s 4ms/step - loss: 0.1136 - accuracy: 0.9558\n",
      "Epoch 5/1000\n",
      "1425/1425 [==============================] - 5s 4ms/step - loss: 0.1120 - accuracy: 0.9561\n",
      "Epoch 6/1000\n",
      "1425/1425 [==============================] - 6s 4ms/step - loss: 0.1113 - accuracy: 0.9564\n",
      "Epoch 7/1000\n",
      "1425/1425 [==============================] - 6s 4ms/step - loss: 0.1103 - accuracy: 0.9566\n",
      "Epoch 8/1000\n",
      "1425/1425 [==============================] - 5s 4ms/step - loss: 0.1093 - accuracy: 0.9568\n",
      "Epoch 9/1000\n",
      "1425/1425 [==============================] - 5s 3ms/step - loss: 0.1098 - accuracy: 0.9567\n",
      "Epoch 10/1000\n",
      "1425/1425 [==============================] - 5s 4ms/step - loss: 0.1084 - accuracy: 0.9573\n",
      "Epoch 11/1000\n",
      "1425/1425 [==============================] - 5s 4ms/step - loss: 0.1087 - accuracy: 0.9573\n",
      "Epoch 12/1000\n",
      "1425/1425 [==============================] - 6s 4ms/step - loss: 0.1081 - accuracy: 0.9572\n",
      "Epoch 13/1000\n",
      "1425/1425 [==============================] - 6s 4ms/step - loss: 0.1076 - accuracy: 0.9575\n",
      "Epoch 14/1000\n",
      "1425/1425 [==============================] - 5s 4ms/step - loss: 0.1068 - accuracy: 0.9579\n",
      "Epoch 15/1000\n",
      "1425/1425 [==============================] - 5s 4ms/step - loss: 0.1070 - accuracy: 0.9577\n",
      "Epoch 16/1000\n",
      "1425/1425 [==============================] - 5s 3ms/step - loss: 0.1062 - accuracy: 0.9578\n",
      "Epoch 17/1000\n",
      "1425/1425 [==============================] - 6s 4ms/step - loss: 0.1067 - accuracy: 0.9578\n",
      "Epoch 18/1000\n",
      "1425/1425 [==============================] - 6s 4ms/step - loss: 0.1059 - accuracy: 0.9580\n",
      "Epoch 19/1000\n",
      "1425/1425 [==============================] - 6s 4ms/step - loss: 0.1055 - accuracy: 0.9582\n",
      "Epoch 20/1000\n",
      "1425/1425 [==============================] - 6s 4ms/step - loss: 0.1051 - accuracy: 0.9582\n",
      "Epoch 21/1000\n",
      "1425/1425 [==============================] - 6s 4ms/step - loss: 0.1049 - accuracy: 0.9585: 0s - loss: 0.105\n",
      "Epoch 22/1000\n",
      "1425/1425 [==============================] - 5s 4ms/step - loss: 0.1050 - accuracy: 0.9583\n",
      "Epoch 23/1000\n",
      "1425/1425 [==============================] - 5s 4ms/step - loss: 0.1046 - accuracy: 0.9583\n",
      "Epoch 24/1000\n",
      "1425/1425 [==============================] - 6s 4ms/step - loss: 0.1047 - accuracy: 0.9585\n",
      "Epoch 25/1000\n",
      "1425/1425 [==============================] - 6s 4ms/step - loss: 0.1046 - accuracy: 0.9584\n",
      "Epoch 26/1000\n",
      "1425/1425 [==============================] - 6s 4ms/step - loss: 0.1040 - accuracy: 0.9588\n",
      "Epoch 27/1000\n",
      "1425/1425 [==============================] - 6s 4ms/step - loss: 0.1037 - accuracy: 0.9588\n",
      "Epoch 28/1000\n",
      "1425/1425 [==============================] - 5s 3ms/step - loss: 0.1045 - accuracy: 0.9583\n",
      "Epoch 29/1000\n",
      "1425/1425 [==============================] - 5s 4ms/step - loss: 0.1035 - accuracy: 0.9586\n",
      "Epoch 30/1000\n",
      "1425/1425 [==============================] - 6s 4ms/step - loss: 0.1038 - accuracy: 0.9589\n",
      "Epoch 31/1000\n",
      "1425/1425 [==============================] - 6s 4ms/step - loss: 0.1030 - accuracy: 0.9590\n",
      "Epoch 32/1000\n",
      "1425/1425 [==============================] - 6s 4ms/step - loss: 0.1042 - accuracy: 0.9586\n",
      "Epoch 33/1000\n",
      "1425/1425 [==============================] - 6s 4ms/step - loss: 0.1036 - accuracy: 0.9586\n",
      "Epoch 34/1000\n",
      "1425/1425 [==============================] - 5s 3ms/step - loss: 0.1037 - accuracy: 0.9587\n",
      "Epoch 35/1000\n",
      "1425/1425 [==============================] - 5s 4ms/step - loss: 0.1028 - accuracy: 0.9590\n",
      "Epoch 36/1000\n",
      "1425/1425 [==============================] - 6s 4ms/step - loss: 0.1030 - accuracy: 0.9591\n",
      "Epoch 37/1000\n",
      "1425/1425 [==============================] - 6s 4ms/step - loss: 0.1025 - accuracy: 0.9592\n",
      "Epoch 38/1000\n",
      "1425/1425 [==============================] - 6s 4ms/step - loss: 0.1026 - accuracy: 0.9592\n",
      "Epoch 39/1000\n",
      "1425/1425 [==============================] - 6s 4ms/step - loss: 0.1036 - accuracy: 0.9587\n",
      "Epoch 40/1000\n",
      "1425/1425 [==============================] - 5s 4ms/step - loss: 0.1028 - accuracy: 0.9592\n",
      "Epoch 41/1000\n",
      "1425/1425 [==============================] - 5s 4ms/step - loss: 0.1027 - accuracy: 0.9594\n",
      "Epoch 42/1000\n",
      "1425/1425 [==============================] - 5s 4ms/step - loss: 0.1020 - accuracy: 0.9594\n",
      "Epoch 43/1000\n",
      "1425/1425 [==============================] - 5s 4ms/step - loss: 0.1022 - accuracy: 0.9591\n",
      "Epoch 44/1000\n",
      "1425/1425 [==============================] - 5s 4ms/step - loss: 0.1032 - accuracy: 0.9590\n",
      "Epoch 45/1000\n",
      "1425/1425 [==============================] - 5s 4ms/step - loss: 0.1018 - accuracy: 0.9595\n",
      "Epoch 46/1000\n",
      "1425/1425 [==============================] - 5s 4ms/step - loss: 0.1020 - accuracy: 0.9594\n",
      "Epoch 47/1000\n",
      "1425/1425 [==============================] - 5s 4ms/step - loss: 0.1015 - accuracy: 0.9593\n",
      "Epoch 48/1000\n",
      "1425/1425 [==============================] - 5s 4ms/step - loss: 0.1024 - accuracy: 0.9593\n",
      "Epoch 49/1000\n",
      "1425/1425 [==============================] - 5s 4ms/step - loss: 0.1025 - accuracy: 0.9591\n",
      "Epoch 50/1000\n",
      "1425/1425 [==============================] - 6s 4ms/step - loss: 0.1029 - accuracy: 0.9589\n",
      "Epoch 51/1000\n",
      "1425/1425 [==============================] - 5s 4ms/step - loss: 0.1014 - accuracy: 0.9598\n",
      "Epoch 52/1000\n",
      "1425/1425 [==============================] - 5s 4ms/step - loss: 0.1016 - accuracy: 0.9593\n",
      "Epoch 53/1000\n",
      "1425/1425 [==============================] - 5s 4ms/step - loss: 0.1016 - accuracy: 0.9594: 0s - loss:\n",
      "Epoch 54/1000\n",
      "1425/1425 [==============================] - 5s 4ms/step - loss: 0.1012 - accuracy: 0.9597\n",
      "Epoch 55/1000\n",
      "1425/1425 [==============================] - 5s 4ms/step - loss: 0.1007 - accuracy: 0.9597\n",
      "Epoch 56/1000\n",
      "1425/1425 [==============================] - 6s 4ms/step - loss: 0.1024 - accuracy: 0.9590\n",
      "Epoch 57/1000\n",
      "1425/1425 [==============================] - 5s 4ms/step - loss: 0.1016 - accuracy: 0.9594\n",
      "Epoch 58/1000\n",
      "1425/1425 [==============================] - 5s 3ms/step - loss: 0.1013 - accuracy: 0.9597\n",
      "Epoch 59/1000\n",
      "1425/1425 [==============================] - 5s 4ms/step - loss: 0.1008 - accuracy: 0.9597\n",
      "Epoch 60/1000\n",
      "1425/1425 [==============================] - 5s 4ms/step - loss: 0.1011 - accuracy: 0.9597\n",
      "Epoch 61/1000\n",
      "1425/1425 [==============================] - 5s 4ms/step - loss: 0.1017 - accuracy: 0.9594\n",
      "Epoch 00061: early stopping\n"
     ]
    }
   ],
   "source": [
    "ces = EarlyStopping(monitor='accuracy', mode='max', verbose=1, patience=10)\n",
    "history=Siamese_cnn.fit([x_train2001,x_train2004],y_train,batch_size=256,epochs=1000,callbacks=[ces]) "
   ]
  },
  {
   "cell_type": "code",
   "execution_count": 10,
   "id": "411a26b8",
   "metadata": {},
   "outputs": [],
   "source": [
    "Siamese_cnn.save('Siamese_cnn.h5')"
   ]
  },
  {
   "cell_type": "code",
   "execution_count": 11,
   "id": "74fabb6f",
   "metadata": {},
   "outputs": [
    {
     "name": "stdout",
     "output_type": "stream",
     "text": [
      "dict_keys(['loss', 'accuracy'])\n"
     ]
    },
    {
     "data": {
      "image/png": "[encoded data removed]",
      "text/plain": [
       "<Figure size 432x288 with 1 Axes>"
      ]
     },
     "metadata": {
      "needs_background": "light"
     },
     "output_type": "display_data"
    },
    {
     "data": {
      "image/png": "[encoded data removed]",
      "text/plain": [
       "<Figure size 432x288 with 1 Axes>"
      ]
     },
     "metadata": {
      "needs_background": "light"
     },
     "output_type": "display_data"
    }
   ],
   "source": [
    "# list all data in history\n",
    "print(history.history.keys())\n",
    "# summarize history for accuracy\n",
    "plt.plot(history.history['accuracy'])\n",
    "plt.plot(history.history['accuracy'])\n",
    "plt.title('model accuracy')\n",
    "plt.ylabel('accuracy')\n",
    "plt.xlabel('epoch')\n",
    "plt.legend(['train', 'test'], loc='upper right')\n",
    "plt.show()\n",
    "# summarize history for loss\n",
    "plt.plot(history.history['loss'])\n",
    "plt.plot(history.history['loss'])\n",
    "plt.title('model loss')\n",
    "plt.ylabel('loss')\n",
    "plt.xlabel('epoch')\n",
    "plt.legend(['train', 'test'], loc='upper right')\n",
    "plt.show()"
   ]
  },
  {
   "cell_type": "code",
   "execution_count": 12,
   "id": "0688ff49",
   "metadata": {},
   "outputs": [],
   "source": [
    "data2001 = numpy.reshape(data2001, newshape=(data2001.shape[0], data2001.shape[1],1,1))\n",
    "data2004 = numpy.reshape(data2004, newshape=(data2004.shape[0], data2004.shape[1],1,1))\n",
    "Y_pred=Siamese_cnn.predict([data2001,data2004])\n",
    "datasetvae2001_class = pd.DataFrame(datasetf2001['x'])\n",
    "datasetvae2004_class = pd.DataFrame(datasetf2001['x'])\n",
    "datasetvae2001_class['y'] = pd.DataFrame(datasetf2001['y'],columns=['y'])\n",
    "datasetvae2004_class['y'] = pd.DataFrame(datasetf2001['y'],columns=['y'])\n",
    "datasetvae2001_class['f1'] = pd.DataFrame(datasetf2001['f1'])\n",
    "datasetvae2001_class['f2'] = pd.DataFrame(datasetf2001['f2'])\n",
    "datasetvae2001_class['f3'] = pd.DataFrame(datasetf2001['f3'])\n",
    "datasetvae2001_class['f4'] = pd.DataFrame(datasetf2001['f4'])\n",
    "datasetvae2004_class['f1'] = pd.DataFrame(datasetf2004['f1'])\n",
    "datasetvae2004_class['f2'] = pd.DataFrame(datasetf2004['f2'])\n",
    "datasetvae2004_class['f3'] = pd.DataFrame(datasetf2004['f3'])\n",
    "datasetvae2004_class['f4'] = pd.DataFrame(datasetf2004['f4'])\n",
    "datasetvae2001_class['class'] = datay\n",
    "datasetvae2001_class['pred'] = np.argmax(Y_pred, axis=1)\n",
    "datasetvae2001_class.to_csv(r'D:/etm data/GoogleEarthEngine/Landsat_07/dataset_2001_2004/y_pred_insitu_MH_2001_cnn.csv')\n",
    "datasetvae2004_class['class'] = datay\n",
    "datasetvae2004_class['pred'] = np.argmax(Y_pred, axis=1)\n",
    "datasetvae2004_class.to_csv(r'D:/etm data/GoogleEarthEngine/Landsat_07/dataset_2001_2004/y_pred_insitu_MH_2004_cnn.csv')"
   ]
  },
  {
   "cell_type": "code",
   "execution_count": 13,
   "id": "63b9f6ca",
   "metadata": {},
   "outputs": [],
   "source": [
    "mse = sklearn.metrics.mean_squared_error(datay, np.argmax(Y_pred, axis=1))\n",
    "rmse = math.sqrt(mse)\n",
    "r2=sklearn.metrics.r2_score(datay, np.argmax(Y_pred, axis=1))\n",
    "precision_sc=sklearn.metrics.precision_score(datay, np.argmax(Y_pred, axis=1), average='macro')\n",
    "f1_sc=sklearn.metrics.f1_score(datay, np.argmax(Y_pred, axis=1), average='macro')\n",
    "confusion_mat=sklearn.metrics.confusion_matrix(datay, np.argmax(Y_pred, axis=1))\n",
    "fpr, tpr, thresholds = sklearn.metrics.roc_curve(datay, np.argmax(Y_pred, axis=1), pos_label=2)\n",
    "auc=sklearn.metrics.auc(fpr, tpr)\n",
    "from sklearn.metrics import recall_score\n",
    "recall_score=recall_score(datay, np.argmax(Y_pred, axis=1), average=None)"
   ]
  },
  {
   "cell_type": "code",
   "execution_count": 14,
   "id": "21b172ff",
   "metadata": {},
   "outputs": [
    {
     "data": {
      "text/plain": [
       "array([0.96479368, 0.96646783, 0.95502474])"
      ]
     },
     "execution_count": 14,
     "metadata": {},
     "output_type": "execute_result"
    }
   ],
   "source": [
    "recall_score"
   ]
  },
  {
   "cell_type": "code",
   "execution_count": 15,
   "id": "39aab357",
   "metadata": {},
   "outputs": [
    {
     "data": {
      "text/plain": [
       "0.3463748008526558"
      ]
     },
     "execution_count": 15,
     "metadata": {},
     "output_type": "execute_result"
    }
   ],
   "source": [
    "rmse"
   ]
  },
  {
   "cell_type": "code",
   "execution_count": 16,
   "id": "b4a8d040",
   "metadata": {},
   "outputs": [
    {
     "data": {
      "text/plain": [
       "0.8610711141468216"
      ]
     },
     "execution_count": 16,
     "metadata": {},
     "output_type": "execute_result"
    }
   ],
   "source": [
    "r2"
   ]
  },
  {
   "cell_type": "code",
   "execution_count": 17,
   "id": "a4346c06",
   "metadata": {},
   "outputs": [
    {
     "data": {
      "text/plain": [
       "0.9538429911984103"
      ]
     },
     "execution_count": 17,
     "metadata": {},
     "output_type": "execute_result"
    }
   ],
   "source": [
    "precision_sc"
   ]
  },
  {
   "cell_type": "code",
   "execution_count": 18,
   "id": "5cad6fa2",
   "metadata": {},
   "outputs": [
    {
     "data": {
      "text/plain": [
       "0.9578615628872112"
      ]
     },
     "execution_count": 18,
     "metadata": {},
     "output_type": "execute_result"
    }
   ],
   "source": [
    "f1_sc"
   ]
  },
  {
   "cell_type": "code",
   "execution_count": 19,
   "id": "e23bd5c1",
   "metadata": {},
   "outputs": [
    {
     "data": {
      "text/plain": [
       "array([0.        , 0.03476064, 0.27255632, 1.        ])"
      ]
     },
     "execution_count": 19,
     "metadata": {},
     "output_type": "execute_result"
    }
   ],
   "source": [
    "fpr"
   ]
  },
  {
   "cell_type": "code",
   "execution_count": 20,
   "id": "42e03643",
   "metadata": {},
   "outputs": [
    {
     "data": {
      "text/plain": [
       "array([0.        , 0.95502474, 0.97305179, 1.        ])"
      ]
     },
     "execution_count": 20,
     "metadata": {},
     "output_type": "execute_result"
    }
   ],
   "source": [
    "tpr"
   ]
  },
  {
   "cell_type": "code",
   "execution_count": 21,
   "id": "25ba04f6",
   "metadata": {},
   "outputs": [
    {
     "data": {
      "text/plain": [
       "0.9634847944268208"
      ]
     },
     "execution_count": 21,
     "metadata": {},
     "output_type": "execute_result"
    }
   ],
   "source": [
    "auc"
   ]
  },
  {
   "cell_type": "code",
   "execution_count": 22,
   "id": "6fb87f6d",
   "metadata": {},
   "outputs": [
    {
     "data": {
      "text/plain": [
       "96.02321487195536"
      ]
     },
     "execution_count": 22,
     "metadata": {},
     "output_type": "execute_result"
    }
   ],
   "source": [
    "from sklearn.metrics import accuracy_score\n",
    "accuracy=sklearn.metrics.accuracy_score(datay, np.argmax(Y_pred, axis=1))\n",
    "accuracy*100"
   ]
  },
  {
   "cell_type": "code",
   "execution_count": 23,
   "id": "e00c649e",
   "metadata": {},
   "outputs": [
    {
     "data": {
      "image/png": "[encoded data removed]",
      "text/plain": [
       "<Figure size 432x288 with 1 Axes>"
      ]
     },
     "metadata": {
      "needs_background": "light"
     },
     "output_type": "display_data"
    }
   ],
   "source": [
    "from sklearn.metrics import RocCurveDisplay\n",
    "roc_display = RocCurveDisplay(fpr=fpr, tpr=tpr).plot()"
   ]
  },
  {
   "cell_type": "code",
   "execution_count": 24,
   "id": "1feff238",
   "metadata": {},
   "outputs": [
    {
     "data": {
      "text/plain": [
       "<AxesSubplot:>"
      ]
     },
     "execution_count": 24,
     "metadata": {},
     "output_type": "execute_result"
    },
    {
     "data": {
      "image/png": "[encoded data removed]",
      "text/plain": [
       "<Figure size 360x360 with 2 Axes>"
      ]
     },
     "metadata": {
      "needs_background": "light"
     },
     "output_type": "display_data"
    }
   ],
   "source": [
    "import seaborn as sn\n",
    "df_cm = pd.DataFrame(confusion_mat, index = [\"0.low\",\"1.high\",\"2.very high\"],columns = [\"0.low\",\"1.high\",\"2.very high\"])\n",
    "plt.figure(figsize = (5,5))\n",
    "sn.heatmap(df_cm, annot=True, fmt=\"d\",cmap=\"YlGnBu\")"
   ]
  },
  {
   "cell_type": "code",
   "execution_count": null,
   "id": "29cde774",
   "metadata": {},
   "outputs": [],
   "source": []
  }
 ],
 "metadata": {
  "kernelspec": {
   "display_name": "Python 3",
   "language": "python",
   "name": "python3"
  },
  "language_info": {
   "codemirror_mode": {
    "name": "ipython",
    "version": 3
   },
   "file_extension": ".py",
   "mimetype": "text/x-python",
   "name": "python",
   "nbconvert_exporter": "python",
   "pygments_lexer": "ipython3",
   "version": "3.6.15"
  }
 },
 "nbformat": 4,
 "nbformat_minor": 5
}
